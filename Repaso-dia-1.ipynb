{
 "cells": [
  {
   "cell_type": "markdown",
   "id": "606b5f20",
   "metadata": {},
   "source": [
    "\n",
    "\n",
    "\n",
    "Partimos del dataset de seguro de automóviles que podemos descargar de:\n",
    "\n",
    "https://archive.ics.uci.edu/ml/datasets/Automobile\n",
    "\n",
    "Vamos a cargar el dataframe de seguros de coches:"
   ]
  },
  {
   "cell_type": "code",
   "execution_count": 1,
   "id": "7cadf37b",
   "metadata": {},
   "outputs": [],
   "source": [
    "autos<-read.csv(\"./data//imports-85.data\", col.names = c(\"risk\", \"normalized_losses\", \n",
    "                                                         \"make\", \"fuel_type\", \"aspiration\",\n",
    "           \"num_doors\", \"body_style\", \"drive_wheels\", \"engine_location\",\n",
    "           \"wheel_base\", \"length\", \"width\", \"height\", \"curb_weight\",\n",
    "           \"engine_type\", \"num_cylinders\", \"engine_size\", \"fuel_system\",\n",
    "           \"bore\", \"stroke\", \"compression_ratio\", \"horsepower\", \"peak_rpm\",\n",
    "           \"city_mpg\", \"highway_mpg\", \"price\"))"
   ]
  },
  {
   "cell_type": "code",
   "execution_count": 2,
   "id": "a0c686d0",
   "metadata": {},
   "outputs": [
    {
     "data": {
      "text/html": [
       "<table class=\"dataframe\">\n",
       "<caption>A data.frame: 6 × 26</caption>\n",
       "<thead>\n",
       "\t<tr><th></th><th scope=col>risk</th><th scope=col>normalized_losses</th><th scope=col>make</th><th scope=col>fuel_type</th><th scope=col>aspiration</th><th scope=col>num_doors</th><th scope=col>body_style</th><th scope=col>drive_wheels</th><th scope=col>engine_location</th><th scope=col>wheel_base</th><th scope=col>⋯</th><th scope=col>engine_size</th><th scope=col>fuel_system</th><th scope=col>bore</th><th scope=col>stroke</th><th scope=col>compression_ratio</th><th scope=col>horsepower</th><th scope=col>peak_rpm</th><th scope=col>city_mpg</th><th scope=col>highway_mpg</th><th scope=col>price</th></tr>\n",
       "\t<tr><th></th><th scope=col>&lt;int&gt;</th><th scope=col>&lt;chr&gt;</th><th scope=col>&lt;chr&gt;</th><th scope=col>&lt;chr&gt;</th><th scope=col>&lt;chr&gt;</th><th scope=col>&lt;chr&gt;</th><th scope=col>&lt;chr&gt;</th><th scope=col>&lt;chr&gt;</th><th scope=col>&lt;chr&gt;</th><th scope=col>&lt;dbl&gt;</th><th scope=col>⋯</th><th scope=col>&lt;int&gt;</th><th scope=col>&lt;chr&gt;</th><th scope=col>&lt;chr&gt;</th><th scope=col>&lt;chr&gt;</th><th scope=col>&lt;dbl&gt;</th><th scope=col>&lt;chr&gt;</th><th scope=col>&lt;chr&gt;</th><th scope=col>&lt;int&gt;</th><th scope=col>&lt;int&gt;</th><th scope=col>&lt;chr&gt;</th></tr>\n",
       "</thead>\n",
       "<tbody>\n",
       "\t<tr><th scope=row>1</th><td>3</td><td>?  </td><td>alfa-romero</td><td>gas</td><td>std</td><td>two </td><td>convertible</td><td>rwd</td><td>front</td><td> 88.6</td><td>⋯</td><td>130</td><td>mpfi</td><td>3.47</td><td>2.68</td><td> 9.0</td><td>111</td><td>5000</td><td>21</td><td>27</td><td>16500</td></tr>\n",
       "\t<tr><th scope=row>2</th><td>1</td><td>?  </td><td>alfa-romero</td><td>gas</td><td>std</td><td>two </td><td>hatchback  </td><td>rwd</td><td>front</td><td> 94.5</td><td>⋯</td><td>152</td><td>mpfi</td><td>2.68</td><td>3.47</td><td> 9.0</td><td>154</td><td>5000</td><td>19</td><td>26</td><td>16500</td></tr>\n",
       "\t<tr><th scope=row>3</th><td>2</td><td>164</td><td>audi       </td><td>gas</td><td>std</td><td>four</td><td>sedan      </td><td>fwd</td><td>front</td><td> 99.8</td><td>⋯</td><td>109</td><td>mpfi</td><td>3.19</td><td>3.40</td><td>10.0</td><td>102</td><td>5500</td><td>24</td><td>30</td><td>13950</td></tr>\n",
       "\t<tr><th scope=row>4</th><td>2</td><td>164</td><td>audi       </td><td>gas</td><td>std</td><td>four</td><td>sedan      </td><td>4wd</td><td>front</td><td> 99.4</td><td>⋯</td><td>136</td><td>mpfi</td><td>3.19</td><td>3.40</td><td> 8.0</td><td>115</td><td>5500</td><td>18</td><td>22</td><td>17450</td></tr>\n",
       "\t<tr><th scope=row>5</th><td>2</td><td>?  </td><td>audi       </td><td>gas</td><td>std</td><td>two </td><td>sedan      </td><td>fwd</td><td>front</td><td> 99.8</td><td>⋯</td><td>136</td><td>mpfi</td><td>3.19</td><td>3.40</td><td> 8.5</td><td>110</td><td>5500</td><td>19</td><td>25</td><td>15250</td></tr>\n",
       "\t<tr><th scope=row>6</th><td>1</td><td>158</td><td>audi       </td><td>gas</td><td>std</td><td>four</td><td>sedan      </td><td>fwd</td><td>front</td><td>105.8</td><td>⋯</td><td>136</td><td>mpfi</td><td>3.19</td><td>3.40</td><td> 8.5</td><td>110</td><td>5500</td><td>19</td><td>25</td><td>17710</td></tr>\n",
       "</tbody>\n",
       "</table>\n"
      ],
      "text/latex": [
       "A data.frame: 6 × 26\n",
       "\\begin{tabular}{r|lllllllllllllllllllll}\n",
       "  & risk & normalized\\_losses & make & fuel\\_type & aspiration & num\\_doors & body\\_style & drive\\_wheels & engine\\_location & wheel\\_base & ⋯ & engine\\_size & fuel\\_system & bore & stroke & compression\\_ratio & horsepower & peak\\_rpm & city\\_mpg & highway\\_mpg & price\\\\\n",
       "  & <int> & <chr> & <chr> & <chr> & <chr> & <chr> & <chr> & <chr> & <chr> & <dbl> & ⋯ & <int> & <chr> & <chr> & <chr> & <dbl> & <chr> & <chr> & <int> & <int> & <chr>\\\\\n",
       "\\hline\n",
       "\t1 & 3 & ?   & alfa-romero & gas & std & two  & convertible & rwd & front &  88.6 & ⋯ & 130 & mpfi & 3.47 & 2.68 &  9.0 & 111 & 5000 & 21 & 27 & 16500\\\\\n",
       "\t2 & 1 & ?   & alfa-romero & gas & std & two  & hatchback   & rwd & front &  94.5 & ⋯ & 152 & mpfi & 2.68 & 3.47 &  9.0 & 154 & 5000 & 19 & 26 & 16500\\\\\n",
       "\t3 & 2 & 164 & audi        & gas & std & four & sedan       & fwd & front &  99.8 & ⋯ & 109 & mpfi & 3.19 & 3.40 & 10.0 & 102 & 5500 & 24 & 30 & 13950\\\\\n",
       "\t4 & 2 & 164 & audi        & gas & std & four & sedan       & 4wd & front &  99.4 & ⋯ & 136 & mpfi & 3.19 & 3.40 &  8.0 & 115 & 5500 & 18 & 22 & 17450\\\\\n",
       "\t5 & 2 & ?   & audi        & gas & std & two  & sedan       & fwd & front &  99.8 & ⋯ & 136 & mpfi & 3.19 & 3.40 &  8.5 & 110 & 5500 & 19 & 25 & 15250\\\\\n",
       "\t6 & 1 & 158 & audi        & gas & std & four & sedan       & fwd & front & 105.8 & ⋯ & 136 & mpfi & 3.19 & 3.40 &  8.5 & 110 & 5500 & 19 & 25 & 17710\\\\\n",
       "\\end{tabular}\n"
      ],
      "text/markdown": [
       "\n",
       "A data.frame: 6 × 26\n",
       "\n",
       "| <!--/--> | risk &lt;int&gt; | normalized_losses &lt;chr&gt; | make &lt;chr&gt; | fuel_type &lt;chr&gt; | aspiration &lt;chr&gt; | num_doors &lt;chr&gt; | body_style &lt;chr&gt; | drive_wheels &lt;chr&gt; | engine_location &lt;chr&gt; | wheel_base &lt;dbl&gt; | ⋯ ⋯ | engine_size &lt;int&gt; | fuel_system &lt;chr&gt; | bore &lt;chr&gt; | stroke &lt;chr&gt; | compression_ratio &lt;dbl&gt; | horsepower &lt;chr&gt; | peak_rpm &lt;chr&gt; | city_mpg &lt;int&gt; | highway_mpg &lt;int&gt; | price &lt;chr&gt; |\n",
       "|---|---|---|---|---|---|---|---|---|---|---|---|---|---|---|---|---|---|---|---|---|---|\n",
       "| 1 | 3 | ?   | alfa-romero | gas | std | two  | convertible | rwd | front |  88.6 | ⋯ | 130 | mpfi | 3.47 | 2.68 |  9.0 | 111 | 5000 | 21 | 27 | 16500 |\n",
       "| 2 | 1 | ?   | alfa-romero | gas | std | two  | hatchback   | rwd | front |  94.5 | ⋯ | 152 | mpfi | 2.68 | 3.47 |  9.0 | 154 | 5000 | 19 | 26 | 16500 |\n",
       "| 3 | 2 | 164 | audi        | gas | std | four | sedan       | fwd | front |  99.8 | ⋯ | 109 | mpfi | 3.19 | 3.40 | 10.0 | 102 | 5500 | 24 | 30 | 13950 |\n",
       "| 4 | 2 | 164 | audi        | gas | std | four | sedan       | 4wd | front |  99.4 | ⋯ | 136 | mpfi | 3.19 | 3.40 |  8.0 | 115 | 5500 | 18 | 22 | 17450 |\n",
       "| 5 | 2 | ?   | audi        | gas | std | two  | sedan       | fwd | front |  99.8 | ⋯ | 136 | mpfi | 3.19 | 3.40 |  8.5 | 110 | 5500 | 19 | 25 | 15250 |\n",
       "| 6 | 1 | 158 | audi        | gas | std | four | sedan       | fwd | front | 105.8 | ⋯ | 136 | mpfi | 3.19 | 3.40 |  8.5 | 110 | 5500 | 19 | 25 | 17710 |\n",
       "\n"
      ],
      "text/plain": [
       "  risk normalized_losses make        fuel_type aspiration num_doors body_style \n",
       "1 3    ?                 alfa-romero gas       std        two       convertible\n",
       "2 1    ?                 alfa-romero gas       std        two       hatchback  \n",
       "3 2    164               audi        gas       std        four      sedan      \n",
       "4 2    164               audi        gas       std        four      sedan      \n",
       "5 2    ?                 audi        gas       std        two       sedan      \n",
       "6 1    158               audi        gas       std        four      sedan      \n",
       "  drive_wheels engine_location wheel_base ⋯ engine_size fuel_system bore stroke\n",
       "1 rwd          front            88.6      ⋯ 130         mpfi        3.47 2.68  \n",
       "2 rwd          front            94.5      ⋯ 152         mpfi        2.68 3.47  \n",
       "3 fwd          front            99.8      ⋯ 109         mpfi        3.19 3.40  \n",
       "4 4wd          front            99.4      ⋯ 136         mpfi        3.19 3.40  \n",
       "5 fwd          front            99.8      ⋯ 136         mpfi        3.19 3.40  \n",
       "6 fwd          front           105.8      ⋯ 136         mpfi        3.19 3.40  \n",
       "  compression_ratio horsepower peak_rpm city_mpg highway_mpg price\n",
       "1  9.0              111        5000     21       27          16500\n",
       "2  9.0              154        5000     19       26          16500\n",
       "3 10.0              102        5500     24       30          13950\n",
       "4  8.0              115        5500     18       22          17450\n",
       "5  8.5              110        5500     19       25          15250\n",
       "6  8.5              110        5500     19       25          17710"
      ]
     },
     "metadata": {},
     "output_type": "display_data"
    }
   ],
   "source": [
    "head(autos)"
   ]
  },
  {
   "cell_type": "code",
   "execution_count": 3,
   "id": "84be4bba",
   "metadata": {},
   "outputs": [
    {
     "name": "stdout",
     "output_type": "stream",
     "text": [
      "'data.frame':\t204 obs. of  26 variables:\n",
      " $ risk             : int  3 1 2 2 2 1 1 1 0 2 ...\n",
      " $ normalized_losses: chr  \"?\" \"?\" \"164\" \"164\" ...\n",
      " $ make             : chr  \"alfa-romero\" \"alfa-romero\" \"audi\" \"audi\" ...\n",
      " $ fuel_type        : chr  \"gas\" \"gas\" \"gas\" \"gas\" ...\n",
      " $ aspiration       : chr  \"std\" \"std\" \"std\" \"std\" ...\n",
      " $ num_doors        : chr  \"two\" \"two\" \"four\" \"four\" ...\n",
      " $ body_style       : chr  \"convertible\" \"hatchback\" \"sedan\" \"sedan\" ...\n",
      " $ drive_wheels     : chr  \"rwd\" \"rwd\" \"fwd\" \"4wd\" ...\n",
      " $ engine_location  : chr  \"front\" \"front\" \"front\" \"front\" ...\n",
      " $ wheel_base       : num  88.6 94.5 99.8 99.4 99.8 ...\n",
      " $ length           : num  169 171 177 177 177 ...\n",
      " $ width            : num  64.1 65.5 66.2 66.4 66.3 71.4 71.4 71.4 67.9 64.8 ...\n",
      " $ height           : num  48.8 52.4 54.3 54.3 53.1 55.7 55.7 55.9 52 54.3 ...\n",
      " $ curb_weight      : int  2548 2823 2337 2824 2507 2844 2954 3086 3053 2395 ...\n",
      " $ engine_type      : chr  \"dohc\" \"ohcv\" \"ohc\" \"ohc\" ...\n",
      " $ num_cylinders    : chr  \"four\" \"six\" \"four\" \"five\" ...\n",
      " $ engine_size      : int  130 152 109 136 136 136 136 131 131 108 ...\n",
      " $ fuel_system      : chr  \"mpfi\" \"mpfi\" \"mpfi\" \"mpfi\" ...\n",
      " $ bore             : chr  \"3.47\" \"2.68\" \"3.19\" \"3.19\" ...\n",
      " $ stroke           : chr  \"2.68\" \"3.47\" \"3.40\" \"3.40\" ...\n",
      " $ compression_ratio: num  9 9 10 8 8.5 8.5 8.5 8.3 7 8.8 ...\n",
      " $ horsepower       : chr  \"111\" \"154\" \"102\" \"115\" ...\n",
      " $ peak_rpm         : chr  \"5000\" \"5000\" \"5500\" \"5500\" ...\n",
      " $ city_mpg         : int  21 19 24 18 19 19 19 17 16 23 ...\n",
      " $ highway_mpg      : int  27 26 30 22 25 25 25 20 22 29 ...\n",
      " $ price            : chr  \"16500\" \"16500\" \"13950\" \"17450\" ...\n"
     ]
    }
   ],
   "source": [
    "str(autos)"
   ]
  },
  {
   "cell_type": "code",
   "execution_count": null,
   "id": "df2ab6f2",
   "metadata": {},
   "outputs": [],
   "source": []
  },
  {
   "cell_type": "code",
   "execution_count": 7,
   "id": "afdefbe0",
   "metadata": {},
   "outputs": [],
   "source": [
    "columnas <- c(\"risk\" ,\"horsepower\", \"length\",\"body_style\")\n",
    "autos_lite <- autos[,columnas]"
   ]
  },
  {
   "cell_type": "code",
   "execution_count": 8,
   "id": "538aeef8",
   "metadata": {},
   "outputs": [
    {
     "data": {
      "text/plain": [
       "      risk          horsepower            length       body_style       \n",
       " Min.   :-2.0000   Length:204         Min.   :141.1   Length:204        \n",
       " 1st Qu.: 0.0000   Class :character   1st Qu.:166.3   Class :character  \n",
       " Median : 1.0000   Mode  :character   Median :173.2   Mode  :character  \n",
       " Mean   : 0.8235                      Mean   :174.1                     \n",
       " 3rd Qu.: 2.0000                      3rd Qu.:183.2                     \n",
       " Max.   : 3.0000                      Max.   :208.1                     "
      ]
     },
     "metadata": {},
     "output_type": "display_data"
    }
   ],
   "source": [
    "summary(autos_lite)"
   ]
  },
  {
   "cell_type": "code",
   "execution_count": 12,
   "id": "b133a58e",
   "metadata": {},
   "outputs": [
    {
     "data": {
      "text/html": [
       "<table class=\"dataframe\">\n",
       "<caption>A data.frame: 2 × 4</caption>\n",
       "<thead>\n",
       "\t<tr><th></th><th scope=col>risk</th><th scope=col>horsepower</th><th scope=col>length</th><th scope=col>body_style</th></tr>\n",
       "\t<tr><th></th><th scope=col>&lt;int&gt;</th><th scope=col>&lt;chr&gt;</th><th scope=col>&lt;dbl&gt;</th><th scope=col>&lt;chr&gt;</th></tr>\n",
       "</thead>\n",
       "<tbody>\n",
       "\t<tr><th scope=row>130</th><td>0</td><td>?</td><td>181.5</td><td>wagon    </td></tr>\n",
       "\t<tr><th scope=row>131</th><td>2</td><td>?</td><td>176.8</td><td>hatchback</td></tr>\n",
       "</tbody>\n",
       "</table>\n"
      ],
      "text/latex": [
       "A data.frame: 2 × 4\n",
       "\\begin{tabular}{r|llll}\n",
       "  & risk & horsepower & length & body\\_style\\\\\n",
       "  & <int> & <chr> & <dbl> & <chr>\\\\\n",
       "\\hline\n",
       "\t130 & 0 & ? & 181.5 & wagon    \\\\\n",
       "\t131 & 2 & ? & 176.8 & hatchback\\\\\n",
       "\\end{tabular}\n"
      ],
      "text/markdown": [
       "\n",
       "A data.frame: 2 × 4\n",
       "\n",
       "| <!--/--> | risk &lt;int&gt; | horsepower &lt;chr&gt; | length &lt;dbl&gt; | body_style &lt;chr&gt; |\n",
       "|---|---|---|---|---|\n",
       "| 130 | 0 | ? | 181.5 | wagon     |\n",
       "| 131 | 2 | ? | 176.8 | hatchback |\n",
       "\n"
      ],
      "text/plain": [
       "    risk horsepower length body_style\n",
       "130 0    ?          181.5  wagon     \n",
       "131 2    ?          176.8  hatchback "
      ]
     },
     "metadata": {},
     "output_type": "display_data"
    }
   ],
   "source": [
    "autos_lite[autos_lite$horsepower=='?',]"
   ]
  },
  {
   "cell_type": "code",
   "execution_count": 14,
   "id": "e4eb3a81",
   "metadata": {},
   "outputs": [],
   "source": [
    "autos_lite[autos_lite$horsepower=='?','horsepower'] <- NA"
   ]
  },
  {
   "cell_type": "markdown",
   "id": "0f3b1a77",
   "metadata": {},
   "source": [
    "#### Consulta de filas"
   ]
  },
  {
   "cell_type": "code",
   "execution_count": 17,
   "id": "df39aeb5",
   "metadata": {},
   "outputs": [
    {
     "data": {
      "text/html": [
       "<style>\n",
       ".list-inline {list-style: none; margin:0; padding: 0}\n",
       ".list-inline>li {display: inline-block}\n",
       ".list-inline>li:not(:last-child)::after {content: \"\\00b7\"; padding: 0 .5ex}\n",
       "</style>\n",
       "<ol class=list-inline><li>42</li><li>188</li></ol>\n"
      ],
      "text/latex": [
       "\\begin{enumerate*}\n",
       "\\item 42\n",
       "\\item 188\n",
       "\\end{enumerate*}\n"
      ],
      "text/markdown": [
       "1. 42\n",
       "2. 188\n",
       "\n",
       "\n"
      ],
      "text/plain": [
       "[1]  42 188"
      ]
     },
     "metadata": {},
     "output_type": "display_data"
    }
   ],
   "source": [
    "which(autos_lite$horsepower=='100')"
   ]
  },
  {
   "cell_type": "code",
   "execution_count": 18,
   "id": "e3410223",
   "metadata": {},
   "outputs": [
    {
     "data": {
      "text/html": [
       "<table class=\"dataframe\">\n",
       "<caption>A data.frame: 2 × 4</caption>\n",
       "<thead>\n",
       "\t<tr><th></th><th scope=col>risk</th><th scope=col>horsepower</th><th scope=col>length</th><th scope=col>body_style</th></tr>\n",
       "\t<tr><th></th><th scope=col>&lt;int&gt;</th><th scope=col>&lt;chr&gt;</th><th scope=col>&lt;dbl&gt;</th><th scope=col>&lt;chr&gt;</th></tr>\n",
       "</thead>\n",
       "<tbody>\n",
       "\t<tr><th scope=row>42</th><td>1</td><td>100</td><td>169.1</td><td>sedan</td></tr>\n",
       "\t<tr><th scope=row>188</th><td>2</td><td>100</td><td>171.7</td><td>sedan</td></tr>\n",
       "</tbody>\n",
       "</table>\n"
      ],
      "text/latex": [
       "A data.frame: 2 × 4\n",
       "\\begin{tabular}{r|llll}\n",
       "  & risk & horsepower & length & body\\_style\\\\\n",
       "  & <int> & <chr> & <dbl> & <chr>\\\\\n",
       "\\hline\n",
       "\t42 & 1 & 100 & 169.1 & sedan\\\\\n",
       "\t188 & 2 & 100 & 171.7 & sedan\\\\\n",
       "\\end{tabular}\n"
      ],
      "text/markdown": [
       "\n",
       "A data.frame: 2 × 4\n",
       "\n",
       "| <!--/--> | risk &lt;int&gt; | horsepower &lt;chr&gt; | length &lt;dbl&gt; | body_style &lt;chr&gt; |\n",
       "|---|---|---|---|---|\n",
       "| 42 | 1 | 100 | 169.1 | sedan |\n",
       "| 188 | 2 | 100 | 171.7 | sedan |\n",
       "\n"
      ],
      "text/plain": [
       "    risk horsepower length body_style\n",
       "42  1    100        169.1  sedan     \n",
       "188 2    100        171.7  sedan     "
      ]
     },
     "metadata": {},
     "output_type": "display_data"
    }
   ],
   "source": [
    "autos_lite[c(42,188),]"
   ]
  },
  {
   "cell_type": "markdown",
   "id": "fb56647c",
   "metadata": {},
   "source": [
    "Pasamos la columna horsepower de caracter a número:"
   ]
  },
  {
   "cell_type": "code",
   "execution_count": 31,
   "id": "f1d6e237",
   "metadata": {},
   "outputs": [],
   "source": [
    "autos_lite$horsepower <- as.numeric(autos_lite$horsepower)"
   ]
  },
  {
   "cell_type": "code",
   "execution_count": 32,
   "id": "ace1bda3",
   "metadata": {},
   "outputs": [
    {
     "data": {
      "text/plain": [
       "      risk           horsepower        length       body_style       \n",
       " Min.   :-2.0000   Min.   : 48.0   Min.   :141.1   Length:204        \n",
       " 1st Qu.: 0.0000   1st Qu.: 70.0   1st Qu.:166.3   Class :character  \n",
       " Median : 1.0000   Median : 95.0   Median :173.2   Mode  :character  \n",
       " Mean   : 0.8235   Mean   :104.2   Mean   :174.1                     \n",
       " 3rd Qu.: 2.0000   3rd Qu.:116.0   3rd Qu.:183.2                     \n",
       " Max.   : 3.0000   Max.   :288.0   Max.   :208.1                     \n",
       "                   NA's   :2                                         "
      ]
     },
     "metadata": {},
     "output_type": "display_data"
    }
   ],
   "source": [
    "summary(autos_lite)"
   ]
  },
  {
   "cell_type": "code",
   "execution_count": 33,
   "id": "8ae997e6",
   "metadata": {},
   "outputs": [
    {
     "data": {
      "text/html": [
       "<style>\n",
       ".list-inline {list-style: none; margin:0; padding: 0}\n",
       ".list-inline>li {display: inline-block}\n",
       ".list-inline>li:not(:last-child)::after {content: \"\\00b7\"; padding: 0 .5ex}\n",
       "</style>\n",
       "<ol class=list-inline><li>'convertible'</li><li>'hatchback'</li><li>'sedan'</li><li>'wagon'</li><li>'hardtop'</li></ol>\n"
      ],
      "text/latex": [
       "\\begin{enumerate*}\n",
       "\\item 'convertible'\n",
       "\\item 'hatchback'\n",
       "\\item 'sedan'\n",
       "\\item 'wagon'\n",
       "\\item 'hardtop'\n",
       "\\end{enumerate*}\n"
      ],
      "text/markdown": [
       "1. 'convertible'\n",
       "2. 'hatchback'\n",
       "3. 'sedan'\n",
       "4. 'wagon'\n",
       "5. 'hardtop'\n",
       "\n",
       "\n"
      ],
      "text/plain": [
       "[1] \"convertible\" \"hatchback\"   \"sedan\"       \"wagon\"       \"hardtop\"    "
      ]
     },
     "metadata": {},
     "output_type": "display_data"
    }
   ],
   "source": [
    "unique(autos_lite$body_style)"
   ]
  },
  {
   "cell_type": "code",
   "execution_count": 35,
   "id": "b9149527",
   "metadata": {},
   "outputs": [
    {
     "data": {
      "text/plain": [
       "\n",
       "convertible     hardtop   hatchback       sedan       wagon \n",
       "          5           8          70          96          25 "
      ]
     },
     "metadata": {},
     "output_type": "display_data"
    }
   ],
   "source": [
    "tbl<-table(autos_lite$body_style)\n",
    "tbl"
   ]
  },
  {
   "cell_type": "code",
   "execution_count": 36,
   "id": "c4255a72",
   "metadata": {},
   "outputs": [
    {
     "data": {
      "text/html": [
       "<style>\n",
       ".list-inline {list-style: none; margin:0; padding: 0}\n",
       ".list-inline>li {display: inline-block}\n",
       ".list-inline>li:not(:last-child)::after {content: \"\\00b7\"; padding: 0 .5ex}\n",
       "</style>\n",
       "<ol class=list-inline><li>'convertible'</li><li>'hardtop'</li><li>'hatchback'</li><li>'sedan'</li><li>'wagon'</li></ol>\n"
      ],
      "text/latex": [
       "\\begin{enumerate*}\n",
       "\\item 'convertible'\n",
       "\\item 'hardtop'\n",
       "\\item 'hatchback'\n",
       "\\item 'sedan'\n",
       "\\item 'wagon'\n",
       "\\end{enumerate*}\n"
      ],
      "text/markdown": [
       "1. 'convertible'\n",
       "2. 'hardtop'\n",
       "3. 'hatchback'\n",
       "4. 'sedan'\n",
       "5. 'wagon'\n",
       "\n",
       "\n"
      ],
      "text/plain": [
       "[1] \"convertible\" \"hardtop\"     \"hatchback\"   \"sedan\"       \"wagon\"      "
      ]
     },
     "metadata": {},
     "output_type": "display_data"
    }
   ],
   "source": [
    "names(tbl)"
   ]
  },
  {
   "cell_type": "code",
   "execution_count": 37,
   "id": "85cbac7a",
   "metadata": {},
   "outputs": [
    {
     "data": {
      "text/html": [
       "<strong>hardtop:</strong> 8"
      ],
      "text/latex": [
       "\\textbf{hardtop:} 8"
      ],
      "text/markdown": [
       "**hardtop:** 8"
      ],
      "text/plain": [
       "hardtop \n",
       "      8 "
      ]
     },
     "metadata": {},
     "output_type": "display_data"
    }
   ],
   "source": [
    "tbl[2]"
   ]
  },
  {
   "cell_type": "code",
   "execution_count": 38,
   "id": "c2d3e36f",
   "metadata": {},
   "outputs": [],
   "source": [
    "autos_lite$body_style <- as.factor(autos_lite$body_style)"
   ]
  },
  {
   "cell_type": "code",
   "execution_count": 39,
   "id": "d0391c04",
   "metadata": {},
   "outputs": [
    {
     "data": {
      "text/plain": [
       "      risk           horsepower        length            body_style\n",
       " Min.   :-2.0000   Min.   : 48.0   Min.   :141.1   convertible: 5  \n",
       " 1st Qu.: 0.0000   1st Qu.: 70.0   1st Qu.:166.3   hardtop    : 8  \n",
       " Median : 1.0000   Median : 95.0   Median :173.2   hatchback  :70  \n",
       " Mean   : 0.8235   Mean   :104.2   Mean   :174.1   sedan      :96  \n",
       " 3rd Qu.: 2.0000   3rd Qu.:116.0   3rd Qu.:183.2   wagon      :25  \n",
       " Max.   : 3.0000   Max.   :288.0   Max.   :208.1                   \n",
       "                   NA's   :2                                       "
      ]
     },
     "metadata": {},
     "output_type": "display_data"
    }
   ],
   "source": [
    "summary(autos_lite)"
   ]
  },
  {
   "cell_type": "markdown",
   "id": "cdf0e096",
   "metadata": {},
   "source": [
    "### Calculamos estimadores:"
   ]
  },
  {
   "cell_type": "markdown",
   "id": "be64b3ee",
   "metadata": {},
   "source": [
    "#### Media"
   ]
  },
  {
   "cell_type": "code",
   "execution_count": 43,
   "id": "806f0e29",
   "metadata": {},
   "outputs": [
    {
     "data": {
      "text/html": [
       "'La media de caballos de vapor de todos los coches es: 104.222772277228'"
      ],
      "text/latex": [
       "'La media de caballos de vapor de todos los coches es: 104.222772277228'"
      ],
      "text/markdown": [
       "'La media de caballos de vapor de todos los coches es: 104.222772277228'"
      ],
      "text/plain": [
       "[1] \"La media de caballos de vapor de todos los coches es: 104.222772277228\""
      ]
     },
     "metadata": {},
     "output_type": "display_data"
    }
   ],
   "source": [
    "paste(\"La media de caballos de vapor de todos los coches es:\",\n",
    "      mean(autos_lite$horsepower, na.rm=T))"
   ]
  },
  {
   "cell_type": "code",
   "execution_count": 45,
   "id": "9c91c836",
   "metadata": {},
   "outputs": [
    {
     "data": {
      "text/html": [
       "104.222772277228"
      ],
      "text/latex": [
       "104.222772277228"
      ],
      "text/markdown": [
       "104.222772277228"
      ],
      "text/plain": [
       "[1] 104.2228"
      ]
     },
     "metadata": {},
     "output_type": "display_data"
    }
   ],
   "source": [
    "mean(na.omit(autos_lite$horsepower))"
   ]
  },
  {
   "cell_type": "code",
   "execution_count": 47,
   "id": "61c6c576",
   "metadata": {},
   "outputs": [
    {
     "data": {
      "text/html": [
       "'La media de caballos de vapor de todos los coches es: 104.22'"
      ],
      "text/latex": [
       "'La media de caballos de vapor de todos los coches es: 104.22'"
      ],
      "text/markdown": [
       "'La media de caballos de vapor de todos los coches es: 104.22'"
      ],
      "text/plain": [
       "[1] \"La media de caballos de vapor de todos los coches es: 104.22\""
      ]
     },
     "metadata": {},
     "output_type": "display_data"
    }
   ],
   "source": [
    "paste(\"La media de caballos de vapor de todos los coches es:\",\n",
    "      round(mean(autos_lite$horsepower, na.rm=T),2))"
   ]
  },
  {
   "cell_type": "code",
   "execution_count": 50,
   "id": "2992e17b",
   "metadata": {},
   "outputs": [],
   "source": [
    "autos_hatchback <- autos_lite[ autos_lite$body_style=='hatchback', ]"
   ]
  },
  {
   "cell_type": "code",
   "execution_count": 51,
   "id": "ac1bc6a8",
   "metadata": {},
   "outputs": [
    {
     "data": {
      "text/html": [
       "<style>\n",
       ".list-inline {list-style: none; margin:0; padding: 0}\n",
       ".list-inline>li {display: inline-block}\n",
       ".list-inline>li:not(:last-child)::after {content: \"\\00b7\"; padding: 0 .5ex}\n",
       "</style>\n",
       "<ol class=list-inline><li>2</li><li>9</li><li>18</li><li>19</li><li>21</li><li>22</li><li>23</li><li>24</li><li>29</li><li>30</li><li>31</li><li>32</li><li>33</li><li>34</li><li>37</li><li>38</li><li>46</li><li>50</li><li>51</li><li>52</li><li>55</li><li>56</li><li>57</li><li>58</li><li>59</li><li>61</li><li>64</li><li>75</li><li>76</li><li>77</li><li>78</li><li>79</li><li>80</li><li>81</li><li>82</li><li>83</li><li>84</li><li>95</li><li>99</li><li>104</li><li>105</li><li>106</li><li>118</li><li>119</li><li>120</li><li>124</li><li>125</li><li>129</li><li>131</li><li>132</li><li>134</li><li>136</li><li>138</li><li>139</li><li>140</li><li>150</li><li>151</li><li>152</li><li>157</li><li>159</li><li>161</li><li>164</li><li>166</li><li>169</li><li>171</li><li>175</li><li>177</li><li>178</li><li>179</li><li>190</li></ol>\n"
      ],
      "text/latex": [
       "\\begin{enumerate*}\n",
       "\\item 2\n",
       "\\item 9\n",
       "\\item 18\n",
       "\\item 19\n",
       "\\item 21\n",
       "\\item 22\n",
       "\\item 23\n",
       "\\item 24\n",
       "\\item 29\n",
       "\\item 30\n",
       "\\item 31\n",
       "\\item 32\n",
       "\\item 33\n",
       "\\item 34\n",
       "\\item 37\n",
       "\\item 38\n",
       "\\item 46\n",
       "\\item 50\n",
       "\\item 51\n",
       "\\item 52\n",
       "\\item 55\n",
       "\\item 56\n",
       "\\item 57\n",
       "\\item 58\n",
       "\\item 59\n",
       "\\item 61\n",
       "\\item 64\n",
       "\\item 75\n",
       "\\item 76\n",
       "\\item 77\n",
       "\\item 78\n",
       "\\item 79\n",
       "\\item 80\n",
       "\\item 81\n",
       "\\item 82\n",
       "\\item 83\n",
       "\\item 84\n",
       "\\item 95\n",
       "\\item 99\n",
       "\\item 104\n",
       "\\item 105\n",
       "\\item 106\n",
       "\\item 118\n",
       "\\item 119\n",
       "\\item 120\n",
       "\\item 124\n",
       "\\item 125\n",
       "\\item 129\n",
       "\\item 131\n",
       "\\item 132\n",
       "\\item 134\n",
       "\\item 136\n",
       "\\item 138\n",
       "\\item 139\n",
       "\\item 140\n",
       "\\item 150\n",
       "\\item 151\n",
       "\\item 152\n",
       "\\item 157\n",
       "\\item 159\n",
       "\\item 161\n",
       "\\item 164\n",
       "\\item 166\n",
       "\\item 169\n",
       "\\item 171\n",
       "\\item 175\n",
       "\\item 177\n",
       "\\item 178\n",
       "\\item 179\n",
       "\\item 190\n",
       "\\end{enumerate*}\n"
      ],
      "text/markdown": [
       "1. 2\n",
       "2. 9\n",
       "3. 18\n",
       "4. 19\n",
       "5. 21\n",
       "6. 22\n",
       "7. 23\n",
       "8. 24\n",
       "9. 29\n",
       "10. 30\n",
       "11. 31\n",
       "12. 32\n",
       "13. 33\n",
       "14. 34\n",
       "15. 37\n",
       "16. 38\n",
       "17. 46\n",
       "18. 50\n",
       "19. 51\n",
       "20. 52\n",
       "21. 55\n",
       "22. 56\n",
       "23. 57\n",
       "24. 58\n",
       "25. 59\n",
       "26. 61\n",
       "27. 64\n",
       "28. 75\n",
       "29. 76\n",
       "30. 77\n",
       "31. 78\n",
       "32. 79\n",
       "33. 80\n",
       "34. 81\n",
       "35. 82\n",
       "36. 83\n",
       "37. 84\n",
       "38. 95\n",
       "39. 99\n",
       "40. 104\n",
       "41. 105\n",
       "42. 106\n",
       "43. 118\n",
       "44. 119\n",
       "45. 120\n",
       "46. 124\n",
       "47. 125\n",
       "48. 129\n",
       "49. 131\n",
       "50. 132\n",
       "51. 134\n",
       "52. 136\n",
       "53. 138\n",
       "54. 139\n",
       "55. 140\n",
       "56. 150\n",
       "57. 151\n",
       "58. 152\n",
       "59. 157\n",
       "60. 159\n",
       "61. 161\n",
       "62. 164\n",
       "63. 166\n",
       "64. 169\n",
       "65. 171\n",
       "66. 175\n",
       "67. 177\n",
       "68. 178\n",
       "69. 179\n",
       "70. 190\n",
       "\n",
       "\n"
      ],
      "text/plain": [
       " [1]   2   9  18  19  21  22  23  24  29  30  31  32  33  34  37  38  46  50  51\n",
       "[20]  52  55  56  57  58  59  61  64  75  76  77  78  79  80  81  82  83  84  95\n",
       "[39]  99 104 105 106 118 119 120 124 125 129 131 132 134 136 138 139 140 150 151\n",
       "[58] 152 157 159 161 164 166 169 171 175 177 178 179 190"
      ]
     },
     "metadata": {},
     "output_type": "display_data"
    }
   ],
   "source": [
    "which(autos_lite$body_style=='hatchback')"
   ]
  },
  {
   "cell_type": "code",
   "execution_count": 52,
   "id": "d7df22a1",
   "metadata": {},
   "outputs": [],
   "source": [
    "# Esta línea con el which es ligeramente más eficiente:\n",
    "autos_hatchback <- autos_lite[ which(autos_lite$body_style=='hatchback'), ]"
   ]
  },
  {
   "cell_type": "code",
   "execution_count": 55,
   "id": "602f91a7",
   "metadata": {},
   "outputs": [
    {
     "data": {
      "text/html": [
       "<style>\n",
       ".list-inline {list-style: none; margin:0; padding: 0}\n",
       ".list-inline>li {display: inline-block}\n",
       ".list-inline>li:not(:last-child)::after {content: \"\\00b7\"; padding: 0 .5ex}\n",
       "</style>\n",
       "<ol class=list-inline><li>70</li><li>4</li></ol>\n"
      ],
      "text/latex": [
       "\\begin{enumerate*}\n",
       "\\item 70\n",
       "\\item 4\n",
       "\\end{enumerate*}\n"
      ],
      "text/markdown": [
       "1. 70\n",
       "2. 4\n",
       "\n",
       "\n"
      ],
      "text/plain": [
       "[1] 70  4"
      ]
     },
     "metadata": {},
     "output_type": "display_data"
    },
    {
     "data": {
      "text/html": [
       "70"
      ],
      "text/latex": [
       "70"
      ],
      "text/markdown": [
       "70"
      ],
      "text/plain": [
       "[1] 70"
      ]
     },
     "metadata": {},
     "output_type": "display_data"
    },
    {
     "data": {
      "text/html": [
       "4"
      ],
      "text/latex": [
       "4"
      ],
      "text/markdown": [
       "4"
      ],
      "text/plain": [
       "[1] 4"
      ]
     },
     "metadata": {},
     "output_type": "display_data"
    }
   ],
   "source": [
    "dim(autos_hatchback)\n",
    "nrow(autos_hatchback)\n",
    "ncol(autos_hatchback)"
   ]
  },
  {
   "cell_type": "code",
   "execution_count": 59,
   "id": "2af55275",
   "metadata": {},
   "outputs": [
    {
     "data": {
      "text/html": [
       "'La media de CV de los coches tipo hatchback es: 101.333333333333'"
      ],
      "text/latex": [
       "'La media de CV de los coches tipo hatchback es: 101.333333333333'"
      ],
      "text/markdown": [
       "'La media de CV de los coches tipo hatchback es: 101.333333333333'"
      ],
      "text/plain": [
       "[1] \"La media de CV de los coches tipo hatchback es: 101.333333333333\""
      ]
     },
     "metadata": {},
     "output_type": "display_data"
    }
   ],
   "source": [
    "paste(\"La media de CV de los coches tipo hatchback es:\",\n",
    "      mean(autos_hatchback$horsepower, na.rm=TRUE))"
   ]
  },
  {
   "cell_type": "code",
   "execution_count": 65,
   "id": "3c792e08",
   "metadata": {},
   "outputs": [
    {
     "data": {
      "text/html": [
       "'La media de CV de los coches tipo hardtop es: 142.25'"
      ],
      "text/latex": [
       "'La media de CV de los coches tipo hardtop es: 142.25'"
      ],
      "text/markdown": [
       "'La media de CV de los coches tipo hardtop es: 142.25'"
      ],
      "text/plain": [
       "[1] \"La media de CV de los coches tipo hardtop es: 142.25\""
      ]
     },
     "metadata": {},
     "output_type": "display_data"
    }
   ],
   "source": [
    "paste(\"La media de CV de los coches tipo hardtop es:\",\n",
    "      mean(autos_lite$horsepower[autos_lite$body_style=='hardtop'], na.rm=TRUE))"
   ]
  },
  {
   "cell_type": "markdown",
   "id": "1b25d6c5",
   "metadata": {},
   "source": [
    "#### Mediana"
   ]
  },
  {
   "cell_type": "code",
   "execution_count": 67,
   "id": "4660631e",
   "metadata": {},
   "outputs": [
    {
     "data": {
      "text/html": [
       "'La mediana de caballos de vapor de todos los coches es: 95'"
      ],
      "text/latex": [
       "'La mediana de caballos de vapor de todos los coches es: 95'"
      ],
      "text/markdown": [
       "'La mediana de caballos de vapor de todos los coches es: 95'"
      ],
      "text/plain": [
       "[1] \"La mediana de caballos de vapor de todos los coches es: 95\""
      ]
     },
     "metadata": {},
     "output_type": "display_data"
    },
    {
     "data": {
      "text/html": [
       "'La mediana de CV de los coches tipo hatchback es: 88'"
      ],
      "text/latex": [
       "'La mediana de CV de los coches tipo hatchback es: 88'"
      ],
      "text/markdown": [
       "'La mediana de CV de los coches tipo hatchback es: 88'"
      ],
      "text/plain": [
       "[1] \"La mediana de CV de los coches tipo hatchback es: 88\""
      ]
     },
     "metadata": {},
     "output_type": "display_data"
    }
   ],
   "source": [
    "paste(\"La mediana de caballos de vapor de todos los coches es:\",\n",
    "      median(autos_lite$horsepower, na.rm=T))\n",
    "\n",
    "paste(\"La mediana de CV de los coches tipo hatchback es:\",\n",
    "      median(autos_hatchback$horsepower, na.rm=TRUE))"
   ]
  },
  {
   "cell_type": "markdown",
   "id": "9caee6a6",
   "metadata": {},
   "source": [
    "#### Boxplot"
   ]
  },
  {
   "cell_type": "code",
   "execution_count": 68,
   "id": "f9ff1574",
   "metadata": {},
   "outputs": [
    {
     "data": {
      "image/png": "[encoded data removed]",
      "text/plain": [
       "plot without title"
      ]
     },
     "metadata": {
      "image/png": {
       "height": 420,
       "width": 420
      }
     },
     "output_type": "display_data"
    }
   ],
   "source": [
    "boxplot(autos_lite$horsepower)"
   ]
  },
  {
   "cell_type": "code",
   "execution_count": 70,
   "id": "72990440",
   "metadata": {},
   "outputs": [
    {
     "data": {
      "text/html": [
       "48"
      ],
      "text/latex": [
       "48"
      ],
      "text/markdown": [
       "48"
      ],
      "text/plain": [
       "[1] 48"
      ]
     },
     "metadata": {},
     "output_type": "display_data"
    }
   ],
   "source": [
    "min(autos_lite$horsepower, na.rm=T)"
   ]
  },
  {
   "cell_type": "code",
   "execution_count": 72,
   "id": "701ab8ec",
   "metadata": {},
   "outputs": [
    {
     "data": {
      "text/html": [
       "288"
      ],
      "text/latex": [
       "288"
      ],
      "text/markdown": [
       "288"
      ],
      "text/plain": [
       "[1] 288"
      ]
     },
     "metadata": {},
     "output_type": "display_data"
    }
   ],
   "source": [
    "max(autos_lite$horsepower, na.rm=T)"
   ]
  },
  {
   "cell_type": "markdown",
   "id": "5ddc16fd",
   "metadata": {},
   "source": [
    "El coche con más CV es:"
   ]
  },
  {
   "cell_type": "code",
   "execution_count": 75,
   "id": "8a96a729",
   "metadata": {},
   "outputs": [
    {
     "data": {
      "text/html": [
       "<table class=\"dataframe\">\n",
       "<caption>A data.frame: 1 × 4</caption>\n",
       "<thead>\n",
       "\t<tr><th></th><th scope=col>risk</th><th scope=col>horsepower</th><th scope=col>length</th><th scope=col>body_style</th></tr>\n",
       "\t<tr><th></th><th scope=col>&lt;int&gt;</th><th scope=col>&lt;dbl&gt;</th><th scope=col>&lt;dbl&gt;</th><th scope=col>&lt;fct&gt;</th></tr>\n",
       "</thead>\n",
       "<tbody>\n",
       "\t<tr><th scope=row>129</th><td>1</td><td>288</td><td>175.7</td><td>hatchback</td></tr>\n",
       "</tbody>\n",
       "</table>\n"
      ],
      "text/latex": [
       "A data.frame: 1 × 4\n",
       "\\begin{tabular}{r|llll}\n",
       "  & risk & horsepower & length & body\\_style\\\\\n",
       "  & <int> & <dbl> & <dbl> & <fct>\\\\\n",
       "\\hline\n",
       "\t129 & 1 & 288 & 175.7 & hatchback\\\\\n",
       "\\end{tabular}\n"
      ],
      "text/markdown": [
       "\n",
       "A data.frame: 1 × 4\n",
       "\n",
       "| <!--/--> | risk &lt;int&gt; | horsepower &lt;dbl&gt; | length &lt;dbl&gt; | body_style &lt;fct&gt; |\n",
       "|---|---|---|---|---|\n",
       "| 129 | 1 | 288 | 175.7 | hatchback |\n",
       "\n"
      ],
      "text/plain": [
       "    risk horsepower length body_style\n",
       "129 1    288        175.7  hatchback "
      ]
     },
     "metadata": {},
     "output_type": "display_data"
    }
   ],
   "source": [
    "autos_lite[which.max(autos_lite$horsepower),]"
   ]
  },
  {
   "cell_type": "code",
   "execution_count": 77,
   "id": "f17e32b7",
   "metadata": {},
   "outputs": [
    {
     "data": {
      "text/html": [
       "<style>\n",
       ".dl-inline {width: auto; margin:0; padding: 0}\n",
       ".dl-inline>dt, .dl-inline>dd {float: none; width: auto; display: inline-block}\n",
       ".dl-inline>dt::after {content: \":\\0020\"; padding-right: .5ex}\n",
       ".dl-inline>dt:not(:first-of-type) {padding-left: .5ex}\n",
       "</style><dl class=dl-inline><dt>10%</dt><dd>68</dd><dt>25%</dt><dd>70</dd><dt>50%</dt><dd>95</dd><dt>75%</dt><dd>116</dd><dt>90%</dt><dd>160</dd></dl>\n"
      ],
      "text/latex": [
       "\\begin{description*}\n",
       "\\item[10\\textbackslash{}\\%] 68\n",
       "\\item[25\\textbackslash{}\\%] 70\n",
       "\\item[50\\textbackslash{}\\%] 95\n",
       "\\item[75\\textbackslash{}\\%] 116\n",
       "\\item[90\\textbackslash{}\\%] 160\n",
       "\\end{description*}\n"
      ],
      "text/markdown": [
       "10%\n",
       ":   6825%\n",
       ":   7050%\n",
       ":   9575%\n",
       ":   11690%\n",
       ":   160\n",
       "\n"
      ],
      "text/plain": [
       "10% 25% 50% 75% 90% \n",
       " 68  70  95 116 160 "
      ]
     },
     "metadata": {},
     "output_type": "display_data"
    }
   ],
   "source": [
    "quantile(autos_lite$horsepower, c(0.1,0.25,0.50,0.75,0.9), na.rm=T)"
   ]
  },
  {
   "cell_type": "markdown",
   "id": "cffc9f6f",
   "metadata": {},
   "source": [
    "Moda:"
   ]
  },
  {
   "cell_type": "code",
   "execution_count": 84,
   "id": "511457b4",
   "metadata": {},
   "outputs": [
    {
     "data": {
      "text/plain": [
       "\n",
       "convertible     hardtop   hatchback       sedan       wagon \n",
       "          5           8          70          96          25 "
      ]
     },
     "metadata": {},
     "output_type": "display_data"
    }
   ],
   "source": [
    "tbl <- table(autos_lite$body_style)\n",
    "tbl"
   ]
  },
  {
   "cell_type": "code",
   "execution_count": 88,
   "id": "a4cd5798",
   "metadata": {},
   "outputs": [
    {
     "data": {
      "text/html": [
       "'sedan'"
      ],
      "text/latex": [
       "'sedan'"
      ],
      "text/markdown": [
       "'sedan'"
      ],
      "text/plain": [
       "[1] \"sedan\""
      ]
     },
     "metadata": {},
     "output_type": "display_data"
    }
   ],
   "source": [
    "names(tbl[which.max(tbl)])"
   ]
  },
  {
   "cell_type": "markdown",
   "id": "98619df9",
   "metadata": {},
   "source": [
    "### Ejercicio caramelos"
   ]
  },
  {
   "cell_type": "code",
   "execution_count": 89,
   "id": "09511f3e",
   "metadata": {},
   "outputs": [],
   "source": [
    "caramelos <- c(25,65,50,53,48,60,52)"
   ]
  },
  {
   "cell_type": "code",
   "execution_count": 90,
   "id": "913f8b65",
   "metadata": {},
   "outputs": [
    {
     "data": {
      "text/html": [
       "50.4285714285714"
      ],
      "text/latex": [
       "50.4285714285714"
      ],
      "text/markdown": [
       "50.4285714285714"
      ],
      "text/plain": [
       "[1] 50.42857"
      ]
     },
     "metadata": {},
     "output_type": "display_data"
    }
   ],
   "source": [
    "mean(caramelos)"
   ]
  },
  {
   "cell_type": "code",
   "execution_count": 91,
   "id": "8988b1ad",
   "metadata": {},
   "outputs": [
    {
     "data": {
      "text/html": [
       "52"
      ],
      "text/latex": [
       "52"
      ],
      "text/markdown": [
       "52"
      ],
      "text/plain": [
       "[1] 52"
      ]
     },
     "metadata": {},
     "output_type": "display_data"
    }
   ],
   "source": [
    "median(caramelos)"
   ]
  },
  {
   "cell_type": "code",
   "execution_count": 92,
   "id": "198b5ebb",
   "metadata": {},
   "outputs": [
    {
     "data": {
      "image/png": "[encoded data removed]",
      "text/plain": [
       "plot without title"
      ]
     },
     "metadata": {
      "image/png": {
       "height": 420,
       "width": 420
      }
     },
     "output_type": "display_data"
    }
   ],
   "source": [
    "boxplot(caramelos)"
   ]
  },
  {
   "cell_type": "code",
   "execution_count": 94,
   "id": "d7994863",
   "metadata": {},
   "outputs": [
    {
     "data": {
      "text/html": [
       "<style>\n",
       ".list-inline {list-style: none; margin:0; padding: 0}\n",
       ".list-inline>li {display: inline-block}\n",
       ".list-inline>li:not(:last-child)::after {content: \"\\00b7\"; padding: 0 .5ex}\n",
       "</style>\n",
       "<ol class=list-inline><li>FALSE</li><li>TRUE</li><li>TRUE</li><li>TRUE</li><li>TRUE</li><li>TRUE</li><li>TRUE</li></ol>\n"
      ],
      "text/latex": [
       "\\begin{enumerate*}\n",
       "\\item FALSE\n",
       "\\item TRUE\n",
       "\\item TRUE\n",
       "\\item TRUE\n",
       "\\item TRUE\n",
       "\\item TRUE\n",
       "\\item TRUE\n",
       "\\end{enumerate*}\n"
      ],
      "text/markdown": [
       "1. FALSE\n",
       "2. TRUE\n",
       "3. TRUE\n",
       "4. TRUE\n",
       "5. TRUE\n",
       "6. TRUE\n",
       "7. TRUE\n",
       "\n",
       "\n"
      ],
      "text/plain": [
       "[1] FALSE  TRUE  TRUE  TRUE  TRUE  TRUE  TRUE"
      ]
     },
     "metadata": {},
     "output_type": "display_data"
    }
   ],
   "source": [
    "caramelos > 45"
   ]
  },
  {
   "cell_type": "code",
   "execution_count": 95,
   "id": "8b4789b6",
   "metadata": {},
   "outputs": [],
   "source": [
    "caramelos_limpio <- caramelos[caramelos > 45]"
   ]
  },
  {
   "cell_type": "code",
   "execution_count": 96,
   "id": "5fd515e5",
   "metadata": {},
   "outputs": [
    {
     "data": {
      "image/png": "[encoded data removed]",
      "text/plain": [
       "plot without title"
      ]
     },
     "metadata": {
      "image/png": {
       "height": 420,
       "width": 420
      }
     },
     "output_type": "display_data"
    }
   ],
   "source": [
    "boxplot(caramelos_limpio)"
   ]
  },
  {
   "cell_type": "code",
   "execution_count": 97,
   "id": "98233340",
   "metadata": {},
   "outputs": [
    {
     "data": {
      "text/html": [
       "54.6666666666667"
      ],
      "text/latex": [
       "54.6666666666667"
      ],
      "text/markdown": [
       "54.6666666666667"
      ],
      "text/plain": [
       "[1] 54.66667"
      ]
     },
     "metadata": {},
     "output_type": "display_data"
    }
   ],
   "source": [
    "mean(caramelos_limpio)"
   ]
  },
  {
   "cell_type": "code",
   "execution_count": null,
   "id": "d0751d82",
   "metadata": {},
   "outputs": [],
   "source": []
  }
 ],
 "metadata": {
  "kernelspec": {
   "display_name": "R",
   "language": "R",
   "name": "ir"
  },
  "language_info": {
   "codemirror_mode": "r",
   "file_extension": ".r",
   "mimetype": "text/x-r-source",
   "name": "R",
   "pygments_lexer": "r",
   "version": "4.1.0"
  }
 },
 "nbformat": 4,
 "nbformat_minor": 5
}
