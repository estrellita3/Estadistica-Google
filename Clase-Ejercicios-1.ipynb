{
 "cells": [
  {
   "cell_type": "markdown",
   "id": "97ccbafd",
   "metadata": {},
   "source": [
    "## Datos de strava\n",
    "\n",
    "- Filtrar y quedarse solo con Activity.Type=\"Ride\"\n",
    "- Convertir Activity.Date en un objeto posixct.\n",
    "- Crear una nueva columna que sea día de la semana\n",
    "- Crear una nueva columna que sea ida o vuelta al trabajo:\n",
    "    - Tiene que ser un día de lunes a viernes\n",
    "    - Ida: Entre las 7 y las 9\n",
    "    - Vuelta: Entre las 14 y las 19\n",
    "\n",
    "Para la columna Moving.Time: Calcular tiempo medio de ida, tiempo medio de vuelta, varianza y Boxplot de ambos. \n",
    "\n",
    "Ayuda: \n",
    "* Para elegir el día de la semana usa la función weekdays del paquete lubridate()\n",
    "* Para parsear la fecha, usa el siguiente formato: \"%b %d, %Y, %I:%M:%S %p\""
   ]
  },
  {
   "cell_type": "code",
   "execution_count": 89,
   "id": "be4db490",
   "metadata": {},
   "outputs": [
    {
     "name": "stderr",
     "output_type": "stream",
     "text": [
      "Warning message in Sys.setlocale(\"LC_ALL\", \"en_EN\"):\n",
      "\"OS reports request to set locale to \"en_EN\" cannot be honored\"\n"
     ]
    },
    {
     "data": {
      "text/html": [
       "''"
      ],
      "text/latex": [
       "''"
      ],
      "text/markdown": [
       "''"
      ],
      "text/plain": [
       "[1] \"\""
      ]
     },
     "metadata": {},
     "output_type": "display_data"
    }
   ],
   "source": [
    "Sys.setlocale(\"LC_ALL\",\"en_EN\")\n",
    "strava = read.csv(\"data/activities_strava.csv\")\n",
    "strava$Activity.Date <- as.POSIXct(strava$Activity.Date, format='%b %d, %Y, %I:%M:%S %p')"
   ]
  },
  {
   "cell_type": "code",
   "execution_count": 7,
   "id": "c2992b61",
   "metadata": {},
   "outputs": [
    {
     "name": "stdout",
     "output_type": "stream",
     "text": [
      "'data.frame':\t95 obs. of  77 variables:\n",
      " $ Activity.ID                                                                                   : num  2.58e+09 2.58e+09 2.58e+09 2.61e+09 2.63e+09 ...\n",
      " $ Activity.Date                                                                                 : POSIXct, format: \"2019-08-01 15:51:15\" \"2019-08-02 05:53:50\" ...\n",
      " $ Activity.Name                                                                                 : chr  \"Afternoon Ride\" \"Morning Ride\" \"Afternoon Ride\" \"Afternoon Ride\" ...\n",
      " $ Activity.Type                                                                                 : chr  \"Ride\" \"Ride\" \"Ride\" \"Ride\" ...\n",
      " $ Activity.Description                                                                          : logi  NA NA NA NA NA NA ...\n",
      " $ Elapsed.Time                                                                                  : int  50436 1745 944 4170 1744 1046 508 1825 1198 2365 ...\n",
      " $ Distance                                                                                      : num  8.14 7.96 6.97 10.52 7.62 ...\n",
      " $ Relative.Effort                                                                               : logi  NA NA NA NA NA NA ...\n",
      " $ Commute                                                                                       : chr  \"false\" \"false\" \"false\" \"false\" ...\n",
      " $ Activity.Gear                                                                                 : logi  NA NA NA NA NA NA ...\n",
      " $ Filename                                                                                      : chr  \"activities/2583296920.gpx\" \"activities/2583296929.gpx\" \"activities/2584111125.gpx\" \"activities/2613027582.gpx\" ...\n",
      " $ Athlete.Weight                                                                                : num  0 0 0 0 0 0 0 0 0 0 ...\n",
      " $ Bike.Weight                                                                                   : logi  NA NA NA NA NA NA ...\n",
      " $ Elapsed.Time.1                                                                                : num  50436 1745 944 4170 1744 ...\n",
      " $ Moving.Time                                                                                   : num  38641 1682 944 3003 1611 ...\n",
      " $ Distance.1                                                                                    : num  8144 7960 6970 10529 7629 ...\n",
      " $ Max.Speed                                                                                     : num  14.2 13.8 14.9 11.8 12 ...\n",
      " $ Average.Speed                                                                                 : num  NA NA NA NA NA NA NA NA NA NA ...\n",
      " $ Elevation.Gain                                                                                : num  29.8 128.8 17.2 62.3 128.8 ...\n",
      " $ Elevation.Loss                                                                                : num  NA NA NA NA NA NA NA NA NA NA ...\n",
      " $ Elevation.Low                                                                                 : num  606 584 584 766 584 ...\n",
      " $ Elevation.High                                                                                : num  704 704 704 795 704 ...\n",
      " $ Max.Grade                                                                                     : num  21.7 13 10.5 7.2 12.9 ...\n",
      " $ Average.Grade                                                                                 : num  -1.0339 1.1846 -1.5984 -0.0294 1.3318 ...\n",
      " $ Average.Positive.Grade                                                                        : logi  NA NA NA NA NA NA ...\n",
      " $ Average.Negative.Grade                                                                        : logi  NA NA NA NA NA NA ...\n",
      " $ Max.Cadence                                                                                   : logi  NA NA NA NA NA NA ...\n",
      " $ Average.Cadence                                                                               : num  NA NA NA NA NA NA NA NA NA NA ...\n",
      " $ Max.Heart.Rate                                                                                : logi  NA NA NA NA NA NA ...\n",
      " $ Average.Heart.Rate                                                                            : logi  NA NA NA NA NA NA ...\n",
      " $ Max.Watts                                                                                     : logi  NA NA NA NA NA NA ...\n",
      " $ Average.Watts                                                                                 : logi  NA NA NA NA NA NA ...\n",
      " $ Calories                                                                                      : num  NA NA NA NA NA NA NA NA NA NA ...\n",
      " $ Max.Temperature                                                                               : logi  NA NA NA NA NA NA ...\n",
      " $ Average.Temperature                                                                           : num  NA NA NA NA NA NA NA NA NA NA ...\n",
      " $ Relative.Effort.1                                                                             : logi  NA NA NA NA NA NA ...\n",
      " $ Total.Work                                                                                    : logi  NA NA NA NA NA NA ...\n",
      " $ Number.of.Runs                                                                                : logi  NA NA NA NA NA NA ...\n",
      " $ Uphill.Time                                                                                   : logi  NA NA NA NA NA NA ...\n",
      " $ Downhill.Time                                                                                 : logi  NA NA NA NA NA NA ...\n",
      " $ Other.Time                                                                                    : logi  NA NA NA NA NA NA ...\n",
      " $ Perceived.Exertion                                                                            : num  NA NA NA NA NA NA NA NA NA NA ...\n",
      " $ translation.missing..en.US.lib.export.portability_exporter.activities.horton_values.type      : logi  NA NA NA NA NA NA ...\n",
      " $ translation.missing..en.US.lib.export.portability_exporter.activities.horton_values.start_time: logi  NA NA NA NA NA NA ...\n",
      " $ Weighted.Average.Power                                                                        : logi  NA NA NA NA NA NA ...\n",
      " $ Power.Count                                                                                   : logi  NA NA NA NA NA NA ...\n",
      " $ Prefer.Perceived.Exertion                                                                     : num  NA NA NA NA NA NA NA NA NA NA ...\n",
      " $ Perceived.Relative.Effort                                                                     : num  NA NA NA NA NA NA NA NA NA NA ...\n",
      " $ Commute.1                                                                                     : num  NA NA NA NA NA NA NA NA NA NA ...\n",
      " $ Total.Weight.Lifted                                                                           : logi  NA NA NA NA NA NA ...\n",
      " $ From.Upload                                                                                   : num  NA NA NA NA NA NA NA NA NA NA ...\n",
      " $ Grade.Adjusted.Distance                                                                       : logi  NA NA NA NA NA NA ...\n",
      " $ Weather.Observation.Time                                                                      : logi  NA NA NA NA NA NA ...\n",
      " $ Weather.Condition                                                                             : logi  NA NA NA NA NA NA ...\n",
      " $ Weather.Temperature                                                                           : logi  NA NA NA NA NA NA ...\n",
      " $ Apparent.Temperature                                                                          : logi  NA NA NA NA NA NA ...\n",
      " $ Dewpoint                                                                                      : logi  NA NA NA NA NA NA ...\n",
      " $ Humidity                                                                                      : logi  NA NA NA NA NA NA ...\n",
      " $ Weather.Pressure                                                                              : logi  NA NA NA NA NA NA ...\n",
      " $ Wind.Speed                                                                                    : logi  NA NA NA NA NA NA ...\n",
      " $ Wind.Gust                                                                                     : logi  NA NA NA NA NA NA ...\n",
      " $ Wind.Bearing                                                                                  : logi  NA NA NA NA NA NA ...\n",
      " $ Precipitation.Intensity                                                                       : logi  NA NA NA NA NA NA ...\n",
      " $ Sunrise.Time                                                                                  : logi  NA NA NA NA NA NA ...\n",
      " $ Sunset.Time                                                                                   : logi  NA NA NA NA NA NA ...\n",
      " $ Moon.Phase                                                                                    : logi  NA NA NA NA NA NA ...\n",
      " $ Bike                                                                                          : logi  NA NA NA NA NA NA ...\n",
      " $ Gear                                                                                          : logi  NA NA NA NA NA NA ...\n",
      " $ Precipitation.Probability                                                                     : logi  NA NA NA NA NA NA ...\n",
      " $ Precipitation.Type                                                                            : logi  NA NA NA NA NA NA ...\n",
      " $ Cloud.Cover                                                                                   : logi  NA NA NA NA NA NA ...\n",
      " $ Weather.Visibility                                                                            : logi  NA NA NA NA NA NA ...\n",
      " $ UV.Index                                                                                      : logi  NA NA NA NA NA NA ...\n",
      " $ Weather.Ozone                                                                                 : logi  NA NA NA NA NA NA ...\n",
      " $ translation.missing..en.US.lib.export.portability_exporter.activities.horton_values.jump_count: logi  NA NA NA NA NA NA ...\n",
      " $ translation.missing..en.US.lib.export.portability_exporter.activities.horton_values.total_grit: logi  NA NA NA NA NA NA ...\n",
      " $ translation.missing..en.US.lib.export.portability_exporter.activities.horton_values.avg_flow  : logi  NA NA NA NA NA NA ...\n"
     ]
    }
   ],
   "source": [
    "str(strava)"
   ]
  },
  {
   "cell_type": "code",
   "execution_count": 8,
   "id": "387190ac",
   "metadata": {},
   "outputs": [
    {
     "data": {
      "text/html": [
       "<style>\n",
       ".list-inline {list-style: none; margin:0; padding: 0}\n",
       ".list-inline>li {display: inline-block}\n",
       ".list-inline>li:not(:last-child)::after {content: \"\\00b7\"; padding: 0 .5ex}\n",
       "</style>\n",
       "<ol class=list-inline><li>95</li><li>77</li></ol>\n"
      ],
      "text/latex": [
       "\\begin{enumerate*}\n",
       "\\item 95\n",
       "\\item 77\n",
       "\\end{enumerate*}\n"
      ],
      "text/markdown": [
       "1. 95\n",
       "2. 77\n",
       "\n",
       "\n"
      ],
      "text/plain": [
       "[1] 95 77"
      ]
     },
     "metadata": {},
     "output_type": "display_data"
    },
    {
     "data": {
      "text/html": [
       "<style>\n",
       ".list-inline {list-style: none; margin:0; padding: 0}\n",
       ".list-inline>li {display: inline-block}\n",
       ".list-inline>li:not(:last-child)::after {content: \"\\00b7\"; padding: 0 .5ex}\n",
       "</style>\n",
       "<ol class=list-inline><li>92</li><li>77</li></ol>\n"
      ],
      "text/latex": [
       "\\begin{enumerate*}\n",
       "\\item 92\n",
       "\\item 77\n",
       "\\end{enumerate*}\n"
      ],
      "text/markdown": [
       "1. 92\n",
       "2. 77\n",
       "\n",
       "\n"
      ],
      "text/plain": [
       "[1] 92 77"
      ]
     },
     "metadata": {},
     "output_type": "display_data"
    }
   ],
   "source": [
    "dim(strava)\n",
    "strava <- strava[strava$Activity.Type=='Ride', ]\n",
    "dim(strava)"
   ]
  },
  {
   "cell_type": "code",
   "execution_count": 16,
   "id": "46333cbd",
   "metadata": {},
   "outputs": [],
   "source": [
    "#Lo anterior es equivalente a filtrar con dplyr:\n",
    "library(dplyr)\n",
    "strava %>% filter(Activity.Type=='Ride') -> strava"
   ]
  },
  {
   "cell_type": "code",
   "execution_count": 44,
   "id": "73b89c60",
   "metadata": {},
   "outputs": [
    {
     "data": {
      "text/plain": [
       "\n",
       "   Friday    Monday    Sunday  Thursday   Tuesday Wednesday \n",
       "       24        11         1        31        20         5 "
      ]
     },
     "metadata": {},
     "output_type": "display_data"
    }
   ],
   "source": [
    "library(lubridate)\n",
    "strava$weekday <- as.factor(weekdays(strava$Activity.Date))\n",
    "table(strava$weekday)"
   ]
  },
  {
   "cell_type": "code",
   "execution_count": 45,
   "id": "c46cbada",
   "metadata": {},
   "outputs": [],
   "source": [
    "strava$ida_vuelta <- NA"
   ]
  },
  {
   "cell_type": "code",
   "execution_count": 46,
   "id": "9190cfb9",
   "metadata": {},
   "outputs": [],
   "source": [
    "indice_ida <- which( (hour(strava$Activity.Date)>=6 & hour(strava$Activity.Date)<=9) & \n",
    "        !(weekdays(strava$Activity.Date) %in% c('Sunday','Saturday')) )\n",
    "strava$ida_vuelta[indice_ida] <- \"Ida\""
   ]
  },
  {
   "cell_type": "code",
   "execution_count": 47,
   "id": "bd385a7e",
   "metadata": {},
   "outputs": [],
   "source": [
    "indice_vuelta <- which( (hour(strava$Activity.Date)>=13 & hour(strava$Activity.Date)<=19) & \n",
    "        !(weekdays(strava$Activity.Date) %in% c('Sunday','Saturday')) )\n",
    "strava$ida_vuelta[indice_vuelta] <- \"Vuelta\""
   ]
  },
  {
   "cell_type": "code",
   "execution_count": 48,
   "id": "607d2634",
   "metadata": {},
   "outputs": [
    {
     "data": {
      "text/plain": [
       "\n",
       "   Ida Vuelta \n",
       "    22     45 "
      ]
     },
     "metadata": {},
     "output_type": "display_data"
    }
   ],
   "source": [
    "table(strava$ida_vuelta)"
   ]
  },
  {
   "cell_type": "code",
   "execution_count": 49,
   "id": "62c52b2c",
   "metadata": {},
   "outputs": [],
   "source": [
    "strava$ida_vuelta <- as.factor(strava$ida_vuelta)"
   ]
  },
  {
   "cell_type": "code",
   "execution_count": 50,
   "id": "f3d20d38",
   "metadata": {},
   "outputs": [
    {
     "data": {
      "text/plain": [
       "  ida_vuelta      weekday   Activity.Date                  Moving.Time   \n",
       " Ida   :22   Friday   :24   Min.   :2019-08-01 15:51:15   Min.   :  191  \n",
       " Vuelta:45   Monday   :11   1st Qu.:2019-09-06 12:00:58   1st Qu.: 1196  \n",
       " NA's  :25   Sunday   : 1   Median :2019-10-13 09:30:55   Median : 1539  \n",
       "             Thursday :31   Mean   :2019-12-16 20:07:05   Mean   : 1965  \n",
       "             Tuesday  :20   3rd Qu.:2020-02-06 12:57:29   3rd Qu.: 1976  \n",
       "             Wednesday: 5   Max.   :2020-10-09 13:03:13   Max.   :38641  "
      ]
     },
     "metadata": {},
     "output_type": "display_data"
    }
   ],
   "source": [
    "summary(strava[,c('ida_vuelta','weekday','Activity.Date','Moving.Time')])"
   ]
  },
  {
   "cell_type": "code",
   "execution_count": 53,
   "id": "1d64b301",
   "metadata": {},
   "outputs": [
    {
     "data": {
      "text/html": [
       "1964.65217391304"
      ],
      "text/latex": [
       "1964.65217391304"
      ],
      "text/markdown": [
       "1964.65217391304"
      ],
      "text/plain": [
       "[1] 1964.652"
      ]
     },
     "metadata": {},
     "output_type": "display_data"
    },
    {
     "data": {
      "text/html": [
       "1964.65217391304"
      ],
      "text/latex": [
       "1964.65217391304"
      ],
      "text/markdown": [
       "1964.65217391304"
      ],
      "text/plain": [
       "[1] 1964.652"
      ]
     },
     "metadata": {},
     "output_type": "display_data"
    }
   ],
   "source": [
    "# Media total que coincide con el summary\n",
    "mean(strava$Moving.Time)\n",
    "sum(strava$Moving.Time)/length(strava$Moving.Time)"
   ]
  },
  {
   "cell_type": "code",
   "execution_count": 56,
   "id": "9fe990f7",
   "metadata": {},
   "outputs": [
    {
     "data": {
      "text/html": [
       "31.9022727272727"
      ],
      "text/latex": [
       "31.9022727272727"
      ],
      "text/markdown": [
       "31.9022727272727"
      ],
      "text/plain": [
       "[1] 31.90227"
      ]
     },
     "metadata": {},
     "output_type": "display_data"
    }
   ],
   "source": [
    "# Media de Moving.Time en el viaje de ida:\n",
    "mean(strava$Moving.Time[strava$ida_vuelta=='Ida'], na.rm=T)/60"
   ]
  },
  {
   "cell_type": "code",
   "execution_count": 59,
   "id": "4855aa7f",
   "metadata": {},
   "outputs": [
    {
     "data": {
      "text/html": [
       "33.8059259259259"
      ],
      "text/latex": [
       "33.8059259259259"
      ],
      "text/markdown": [
       "33.8059259259259"
      ],
      "text/plain": [
       "[1] 33.80593"
      ]
     },
     "metadata": {},
     "output_type": "display_data"
    }
   ],
   "source": [
    "# Media de Moving.Time en el viaje de vuelta:\n",
    "strava %>% filter(ida_vuelta=='Vuelta') %>% pull(Moving.Time) %>% mean()/60"
   ]
  },
  {
   "cell_type": "code",
   "execution_count": 62,
   "id": "bc7e10ee",
   "metadata": {},
   "outputs": [
    {
     "data": {
      "text/html": [
       "156555.170995671"
      ],
      "text/latex": [
       "156555.170995671"
      ],
      "text/markdown": [
       "156555.170995671"
      ],
      "text/plain": [
       "[1] 156555.2"
      ]
     },
     "metadata": {},
     "output_type": "display_data"
    }
   ],
   "source": [
    "# varianza de Moving.Time en el viaje de ida:\n",
    "var(strava$Moving.Time[strava$ida_vuelta=='Ida'], na.rm=T)"
   ]
  },
  {
   "cell_type": "code",
   "execution_count": 64,
   "id": "b4fe2304",
   "metadata": {},
   "outputs": [
    {
     "data": {
      "text/html": [
       "31276509.0525253"
      ],
      "text/latex": [
       "31276509.0525253"
      ],
      "text/markdown": [
       "31276509.0525253"
      ],
      "text/plain": [
       "[1] 31276509"
      ]
     },
     "metadata": {},
     "output_type": "display_data"
    }
   ],
   "source": [
    "# varianza de Moving.Time en el viaje de vuelta:\n",
    "var(strava$Moving.Time[strava$ida_vuelta=='Vuelta'], na.rm=T)"
   ]
  },
  {
   "cell_type": "code",
   "execution_count": null,
   "id": "c0ba8d17",
   "metadata": {},
   "outputs": [],
   "source": []
  },
  {
   "cell_type": "code",
   "execution_count": 65,
   "id": "e577a1be",
   "metadata": {},
   "outputs": [],
   "source": [
    "library(ggplot2)"
   ]
  },
  {
   "cell_type": "code",
   "execution_count": 67,
   "id": "8c78969f",
   "metadata": {},
   "outputs": [
    {
     "data": {
      "image/png": "[encoded data removed]",
      "text/plain": [
       "plot without title"
      ]
     },
     "metadata": {
      "image/png": {
       "height": 420,
       "width": 420
      }
     },
     "output_type": "display_data"
    }
   ],
   "source": [
    "ggplot(strava, aes(y=Moving.Time/60, x=ida_vuelta, color=ida_vuelta))+\n",
    "geom_boxplot()+ylab('Minutos')"
   ]
  },
  {
   "cell_type": "code",
   "execution_count": 68,
   "id": "93bc6151",
   "metadata": {},
   "outputs": [
    {
     "data": {
      "text/html": [
       "38641"
      ],
      "text/latex": [
       "38641"
      ],
      "text/markdown": [
       "38641"
      ],
      "text/plain": [
       "[1] 38641"
      ]
     },
     "metadata": {},
     "output_type": "display_data"
    }
   ],
   "source": [
    "max(strava$Moving.Time)"
   ]
  },
  {
   "cell_type": "code",
   "execution_count": 69,
   "id": "fe20441e",
   "metadata": {},
   "outputs": [
    {
     "data": {
      "text/html": [
       "<table class=\"dataframe\">\n",
       "<caption>A data.frame: 1 × 4</caption>\n",
       "<thead>\n",
       "\t<tr><th></th><th scope=col>ida_vuelta</th><th scope=col>weekday</th><th scope=col>Activity.Date</th><th scope=col>Moving.Time</th></tr>\n",
       "\t<tr><th></th><th scope=col>&lt;fct&gt;</th><th scope=col>&lt;fct&gt;</th><th scope=col>&lt;dttm&gt;</th><th scope=col>&lt;dbl&gt;</th></tr>\n",
       "</thead>\n",
       "<tbody>\n",
       "\t<tr><th scope=row>1</th><td>Vuelta</td><td>Thursday</td><td>2019-08-01 15:51:15</td><td>38641</td></tr>\n",
       "</tbody>\n",
       "</table>\n"
      ],
      "text/latex": [
       "A data.frame: 1 × 4\n",
       "\\begin{tabular}{r|llll}\n",
       "  & ida\\_vuelta & weekday & Activity.Date & Moving.Time\\\\\n",
       "  & <fct> & <fct> & <dttm> & <dbl>\\\\\n",
       "\\hline\n",
       "\t1 & Vuelta & Thursday & 2019-08-01 15:51:15 & 38641\\\\\n",
       "\\end{tabular}\n"
      ],
      "text/markdown": [
       "\n",
       "A data.frame: 1 × 4\n",
       "\n",
       "| <!--/--> | ida_vuelta &lt;fct&gt; | weekday &lt;fct&gt; | Activity.Date &lt;dttm&gt; | Moving.Time &lt;dbl&gt; |\n",
       "|---|---|---|---|---|\n",
       "| 1 | Vuelta | Thursday | 2019-08-01 15:51:15 | 38641 |\n",
       "\n"
      ],
      "text/plain": [
       "  ida_vuelta weekday  Activity.Date       Moving.Time\n",
       "1 Vuelta     Thursday 2019-08-01 15:51:15 38641      "
      ]
     },
     "metadata": {},
     "output_type": "display_data"
    }
   ],
   "source": [
    "strava[which.max(strava$Moving.Time), c('ida_vuelta','weekday','Activity.Date','Moving.Time')]"
   ]
  },
  {
   "cell_type": "code",
   "execution_count": 70,
   "id": "662028f3",
   "metadata": {},
   "outputs": [],
   "source": [
    "strava_clean<-strava[strava$Moving.Time<38000,]"
   ]
  },
  {
   "cell_type": "code",
   "execution_count": 71,
   "id": "8a545792",
   "metadata": {},
   "outputs": [
    {
     "data": {
      "image/png": "[encoded data removed]",
      "text/plain": [
       "plot without title"
      ]
     },
     "metadata": {
      "image/png": {
       "height": 420,
       "width": 420
      }
     },
     "output_type": "display_data"
    }
   ],
   "source": [
    "ggplot(strava_clean, aes(y=Moving.Time/60, x=ida_vuelta, color=ida_vuelta))+\n",
    "geom_boxplot()+ylab('Minutos')"
   ]
  },
  {
   "cell_type": "code",
   "execution_count": 75,
   "id": "e186d6a3",
   "metadata": {},
   "outputs": [
    {
     "name": "stdout",
     "output_type": "stream",
     "text": [
      "[1] \"Varianza Ida\"\n"
     ]
    },
    {
     "data": {
      "text/html": [
       "156555.170995671"
      ],
      "text/latex": [
       "156555.170995671"
      ],
      "text/markdown": [
       "156555.170995671"
      ],
      "text/plain": [
       "[1] 156555.2"
      ]
     },
     "metadata": {},
     "output_type": "display_data"
    },
    {
     "name": "stdout",
     "output_type": "stream",
     "text": [
      "[1] \"Varianza vuelta\"\n"
     ]
    },
    {
     "data": {
      "text/html": [
       "121280.936046512"
      ],
      "text/latex": [
       "121280.936046512"
      ],
      "text/markdown": [
       "121280.936046512"
      ],
      "text/plain": [
       "[1] 121280.9"
      ]
     },
     "metadata": {},
     "output_type": "display_data"
    }
   ],
   "source": [
    "print(\"Varianza Ida\")\n",
    "var(strava_clean$Moving.Time[strava_clean$ida_vuelta=='Ida'], na.rm=T)\n",
    "print(\"Varianza vuelta\")\n",
    "var(strava_clean$Moving.Time[strava_clean$ida_vuelta=='Vuelta'], na.rm=T)"
   ]
  },
  {
   "cell_type": "code",
   "execution_count": 77,
   "id": "c37c52f3",
   "metadata": {},
   "outputs": [
    {
     "name": "stdout",
     "output_type": "stream",
     "text": [
      "[1] \"Media Ida\"\n"
     ]
    },
    {
     "data": {
      "text/html": [
       "31.9022727272727"
      ],
      "text/latex": [
       "31.9022727272727"
      ],
      "text/markdown": [
       "31.9022727272727"
      ],
      "text/plain": [
       "[1] 31.90227"
      ]
     },
     "metadata": {},
     "output_type": "display_data"
    },
    {
     "name": "stdout",
     "output_type": "stream",
     "text": [
      "[1] \"Media vuelta\"\n"
     ]
    },
    {
     "data": {
      "text/html": [
       "19.9375"
      ],
      "text/latex": [
       "19.9375"
      ],
      "text/markdown": [
       "19.9375"
      ],
      "text/plain": [
       "[1] 19.9375"
      ]
     },
     "metadata": {},
     "output_type": "display_data"
    }
   ],
   "source": [
    "print(\"Media Ida\")\n",
    "mean(strava_clean$Moving.Time[strava_clean$ida_vuelta=='Ida'], na.rm=T)/60\n",
    "print(\"Media vuelta\")\n",
    "mean(strava_clean$Moving.Time[strava_clean$ida_vuelta=='Vuelta'], na.rm=T)/60"
   ]
  },
  {
   "cell_type": "code",
   "execution_count": null,
   "id": "287c7dda",
   "metadata": {},
   "outputs": [],
   "source": []
  },
  {
   "cell_type": "code",
   "execution_count": 78,
   "id": "e434369a",
   "metadata": {},
   "outputs": [
    {
     "name": "stdout",
     "output_type": "stream",
     "text": [
      "[1] \"Tiempo mediano de ida sin limpiar:\"\n"
     ]
    },
    {
     "data": {
      "text/html": [
       "20.0833333333333"
      ],
      "text/latex": [
       "20.0833333333333"
      ],
      "text/markdown": [
       "20.0833333333333"
      ],
      "text/plain": [
       "[1] 20.08333"
      ]
     },
     "metadata": {},
     "output_type": "display_data"
    },
    {
     "name": "stdout",
     "output_type": "stream",
     "text": [
      "[1] \"Tiempo mediano de ida limpio:\"\n"
     ]
    },
    {
     "data": {
      "text/html": [
       "20.0666666666667"
      ],
      "text/latex": [
       "20.0666666666667"
      ],
      "text/markdown": [
       "20.0666666666667"
      ],
      "text/plain": [
       "[1] 20.06667"
      ]
     },
     "metadata": {},
     "output_type": "display_data"
    }
   ],
   "source": [
    "print(\"Tiempo mediano de ida sin limpiar:\")\n",
    "median(strava$Moving.Time[strava$ida_vuelta=='Vuelta'], na.rm=T)/60\n",
    "print(\"Tiempo mediano de ida limpio:\")\n",
    "median(strava_clean$Moving.Time[strava_clean$ida_vuelta=='Vuelta'], na.rm=T)/60"
   ]
  },
  {
   "cell_type": "markdown",
   "id": "9ce3918d",
   "metadata": {},
   "source": [
    " ## CSV edad española\n",
    " \n",
    " Usando el CSV del INE.¿Cual es la media de edad de la población española? ¿y la mediana? ¿la moda?\n",
    "\n",
    "Ayuda, función de la media:\n",
    "\\\\[ \n",
    "    \\bar{x} =  \\frac{1}{\\text{poblaciónTotal}} \\sum _{i=1}^N edad_i · poblaciónConEdad_i \n",
    "\\\\]"
   ]
  },
  {
   "cell_type": "code",
   "execution_count": 8,
   "id": "49600843",
   "metadata": {},
   "outputs": [
    {
     "name": "stderr",
     "output_type": "stream",
     "text": [
      "Warning message in mask$eval_all_mutate(quo):\n",
      "“NAs introduced by coercion”\n"
     ]
    },
    {
     "data": {
      "text/html": [
       "<table class=\"dataframe\">\n",
       "<caption>A tibble: 6 × 4</caption>\n",
       "<thead>\n",
       "\t<tr><th scope=col>Total</th><th scope=col>Hombres</th><th scope=col>Mujeres</th><th scope=col>edad</th></tr>\n",
       "\t<tr><th scope=col>&lt;dbl&gt;</th><th scope=col>&lt;dbl&gt;</th><th scope=col>&lt;dbl&gt;</th><th scope=col>&lt;dbl&gt;</th></tr>\n",
       "</thead>\n",
       "<tbody>\n",
       "\t<tr><td>338786</td><td>173576</td><td>165210</td><td>0</td></tr>\n",
       "\t<tr><td>363341</td><td>186861</td><td>176480</td><td>1</td></tr>\n",
       "\t<tr><td>382059</td><td>196311</td><td>185748</td><td>2</td></tr>\n",
       "\t<tr><td>408287</td><td>210331</td><td>197956</td><td>3</td></tr>\n",
       "\t<tr><td>431472</td><td>221780</td><td>209692</td><td>4</td></tr>\n",
       "\t<tr><td>443170</td><td>228110</td><td>215060</td><td>5</td></tr>\n",
       "</tbody>\n",
       "</table>\n"
      ],
      "text/latex": [
       "A tibble: 6 × 4\n",
       "\\begin{tabular}{llll}\n",
       " Total & Hombres & Mujeres & edad\\\\\n",
       " <dbl> & <dbl> & <dbl> & <dbl>\\\\\n",
       "\\hline\n",
       "\t 338786 & 173576 & 165210 & 0\\\\\n",
       "\t 363341 & 186861 & 176480 & 1\\\\\n",
       "\t 382059 & 196311 & 185748 & 2\\\\\n",
       "\t 408287 & 210331 & 197956 & 3\\\\\n",
       "\t 431472 & 221780 & 209692 & 4\\\\\n",
       "\t 443170 & 228110 & 215060 & 5\\\\\n",
       "\\end{tabular}\n"
      ],
      "text/markdown": [
       "\n",
       "A tibble: 6 × 4\n",
       "\n",
       "| Total &lt;dbl&gt; | Hombres &lt;dbl&gt; | Mujeres &lt;dbl&gt; | edad &lt;dbl&gt; |\n",
       "|---|---|---|---|\n",
       "| 338786 | 173576 | 165210 | 0 |\n",
       "| 363341 | 186861 | 176480 | 1 |\n",
       "| 382059 | 196311 | 185748 | 2 |\n",
       "| 408287 | 210331 | 197956 | 3 |\n",
       "| 431472 | 221780 | 209692 | 4 |\n",
       "| 443170 | 228110 | 215060 | 5 |\n",
       "\n"
      ],
      "text/plain": [
       "  Total  Hombres Mujeres edad\n",
       "1 338786 173576  165210  0   \n",
       "2 363341 186861  176480  1   \n",
       "3 382059 196311  185748  2   \n",
       "4 408287 210331  197956  3   \n",
       "5 431472 221780  209692  4   \n",
       "6 443170 228110  215060  5   "
      ]
     },
     "metadata": {},
     "output_type": "display_data"
    }
   ],
   "source": [
    "library(dplyr)\n",
    "library(tidyr)\n",
    "poblacion_raw<-read.csv(\"data/9663bsc.csv\",skip=0,fileEncoding=\"ISO-8859-1\",\n",
    "                        header=T, sep=';',stringsAsFactor=F)\n",
    "\n",
    "poblacion_raw$Total <- as.numeric(gsub('\\\\.','',poblacion_raw$Total))\n",
    "poblacion <- poblacion_raw %>% \n",
    " pivot_wider(names_from = Sexo, values_from = Total)  %>% \n",
    " mutate(edad=as.numeric(gsub(\"año(s|)\",\"\",Edad.simple))) %>% \n",
    " drop_na() %>%\n",
    " select(-c(Periodo,Edad.simple))%>%\n",
    " rename(Total='Ambos sexos') %>% \n",
    " arrange(edad)\n",
    "#arrange(desc(Edad))\n",
    "head(poblacion)"
   ]
  },
  {
   "cell_type": "markdown",
   "id": "f6bd661d",
   "metadata": {},
   "source": [
    "Calculo de la moda"
   ]
  },
  {
   "cell_type": "code",
   "execution_count": 10,
   "id": "08dd71e6",
   "metadata": {},
   "outputs": [
    {
     "data": {
      "text/html": [
       "<table class=\"dataframe\">\n",
       "<caption>A tibble: 1 × 4</caption>\n",
       "<thead>\n",
       "\t<tr><th scope=col>Total</th><th scope=col>Hombres</th><th scope=col>Mujeres</th><th scope=col>edad</th></tr>\n",
       "\t<tr><th scope=col>&lt;dbl&gt;</th><th scope=col>&lt;dbl&gt;</th><th scope=col>&lt;dbl&gt;</th><th scope=col>&lt;dbl&gt;</th></tr>\n",
       "</thead>\n",
       "<tbody>\n",
       "\t<tr><td>812938</td><td>409360</td><td>403579</td><td>44</td></tr>\n",
       "</tbody>\n",
       "</table>\n"
      ],
      "text/latex": [
       "A tibble: 1 × 4\n",
       "\\begin{tabular}{llll}\n",
       " Total & Hombres & Mujeres & edad\\\\\n",
       " <dbl> & <dbl> & <dbl> & <dbl>\\\\\n",
       "\\hline\n",
       "\t 812938 & 409360 & 403579 & 44\\\\\n",
       "\\end{tabular}\n"
      ],
      "text/markdown": [
       "\n",
       "A tibble: 1 × 4\n",
       "\n",
       "| Total &lt;dbl&gt; | Hombres &lt;dbl&gt; | Mujeres &lt;dbl&gt; | edad &lt;dbl&gt; |\n",
       "|---|---|---|---|\n",
       "| 812938 | 409360 | 403579 | 44 |\n",
       "\n"
      ],
      "text/plain": [
       "  Total  Hombres Mujeres edad\n",
       "1 812938 409360  403579  44  "
      ]
     },
     "metadata": {},
     "output_type": "display_data"
    }
   ],
   "source": [
    "poblacion[which.max(poblacion$Total),]"
   ]
  },
  {
   "cell_type": "code",
   "execution_count": 12,
   "id": "bf57d6bf",
   "metadata": {},
   "outputs": [
    {
     "data": {
      "text/html": [
       "'La moda de la edad es: 44 años'"
      ],
      "text/latex": [
       "'La moda de la edad es: 44 años'"
      ],
      "text/markdown": [
       "'La moda de la edad es: 44 años'"
      ],
      "text/plain": [
       "[1] \"La moda de la edad es: 44 años\""
      ]
     },
     "metadata": {},
     "output_type": "display_data"
    }
   ],
   "source": [
    "paste(\"La moda de la edad es:\",poblacion[which.max(poblacion$Total),\"edad\"],\"años\")"
   ]
  },
  {
   "cell_type": "markdown",
   "id": "8acc3793",
   "metadata": {},
   "source": [
    "Calulo de la mediana:"
   ]
  },
  {
   "cell_type": "code",
   "execution_count": 21,
   "id": "f8f057b7",
   "metadata": {},
   "outputs": [],
   "source": [
    "poblacion$ratio <- poblacion$Total/sum(poblacion$Total)\n",
    "\n",
    "poblacion$cum_ratio <- cumsum(poblacion$ratio)"
   ]
  },
  {
   "cell_type": "code",
   "execution_count": 25,
   "id": "396cd843",
   "metadata": {},
   "outputs": [
    {
     "data": {
      "image/png": "[encoded data removed]",
      "text/plain": [
       "plot without title"
      ]
     },
     "metadata": {
      "image/png": {
       "height": 420,
       "width": 420
      }
     },
     "output_type": "display_data"
    }
   ],
   "source": [
    "library(ggplot2)\n",
    "ggplot(poblacion, aes(x=edad,y=cum_ratio))+geom_line()+geom_point()"
   ]
  },
  {
   "cell_type": "code",
   "execution_count": 31,
   "id": "697a063b",
   "metadata": {},
   "outputs": [
    {
     "data": {
      "image/png": "[encoded data removed]",
      "text/plain": [
       "plot without title"
      ]
     },
     "metadata": {
      "image/png": {
       "height": 420,
       "width": 420
      }
     },
     "output_type": "display_data"
    }
   ],
   "source": [
    "plot(abs(poblacion$cum_ratio-0.5))\n",
    "grid()"
   ]
  },
  {
   "cell_type": "markdown",
   "id": "c396e764",
   "metadata": {},
   "source": [
    "El valor de la mediana es:"
   ]
  },
  {
   "cell_type": "code",
   "execution_count": 33,
   "id": "755f31e7",
   "metadata": {},
   "outputs": [
    {
     "data": {
      "text/html": [
       "44"
      ],
      "text/latex": [
       "44"
      ],
      "text/markdown": [
       "44"
      ],
      "text/plain": [
       "[1] 44"
      ]
     },
     "metadata": {},
     "output_type": "display_data"
    }
   ],
   "source": [
    "poblacion$edad[which.min(abs(poblacion$cum_ratio-0.5))]"
   ]
  },
  {
   "cell_type": "markdown",
   "id": "0ff9f4e7",
   "metadata": {},
   "source": [
    "El valor de la media es:\n",
    "\\\\[ \n",
    "    \\bar{x} =  \\frac{1}{\\text{poblaciónTotal}} \\sum _{i=1}^N edad_i · poblaciónConEdad_i \n",
    "\\\\]"
   ]
  },
  {
   "cell_type": "code",
   "execution_count": 43,
   "id": "77e26259",
   "metadata": {},
   "outputs": [
    {
     "data": {
      "text/html": [
       "43.3059455894582"
      ],
      "text/latex": [
       "43.3059455894582"
      ],
      "text/markdown": [
       "43.3059455894582"
      ],
      "text/plain": [
       "[1] 43.30595"
      ]
     },
     "metadata": {},
     "output_type": "display_data"
    }
   ],
   "source": [
    "sum(poblacion$edad*poblacion$Total)/sum(poblacion$Total)"
   ]
  }
 ],
 "metadata": {
  "kernelspec": {
   "display_name": "R",
   "language": "R",
   "name": "ir"
  },
  "language_info": {
   "codemirror_mode": "r",
   "file_extension": ".r",
   "mimetype": "text/x-r-source",
   "name": "R",
   "pygments_lexer": "r",
   "version": "4.1.0"
  }
 },
 "nbformat": 4,
 "nbformat_minor": 5
}
