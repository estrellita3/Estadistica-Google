{
 "cells": [
  {
   "cell_type": "markdown",
   "metadata": {},
   "source": [
    "# Funciones en R\n",
    "\n",
    "\n",
    "\n",
    "Vamos a crear nuestra primera función para restar dos números."
   ]
  },
  {
   "cell_type": "code",
   "execution_count": 1,
   "metadata": {},
   "outputs": [],
   "source": [
    "options(repr.plot.height=6,repr.plot.width=8 , repr.plot.res = 200)"
   ]
  },
  {
   "cell_type": "code",
   "execution_count": 4,
   "metadata": {},
   "outputs": [],
   "source": [
    "restaDosNumeros <- function(x,y){\n",
    "    z <- x-y\n",
    "    return(z)\n",
    "}"
   ]
  },
  {
   "cell_type": "code",
   "execution_count": 5,
   "metadata": {},
   "outputs": [
    {
     "data": {
      "text/html": [
       "'restaDosNumeros'"
      ],
      "text/latex": [
       "'restaDosNumeros'"
      ],
      "text/markdown": [
       "'restaDosNumeros'"
      ],
      "text/plain": [
       "[1] \"restaDosNumeros\""
      ]
     },
     "metadata": {},
     "output_type": "display_data"
    }
   ],
   "source": [
    "ls()"
   ]
  },
  {
   "cell_type": "code",
   "execution_count": 6,
   "metadata": {},
   "outputs": [
    {
     "data": {
      "text/html": [
       "<pre class=language-r><code>function (x, y) \n",
       "{\n",
       "<span style=white-space:pre-wrap>    z &lt;- x - y</span>\n",
       "<span style=white-space:pre-wrap>    return(z)</span>\n",
       "}</code></pre>"
      ],
      "text/latex": [
       "\\begin{minted}{r}\n",
       "function (x, y) \n",
       "\\{\n",
       "    z <- x - y\n",
       "    return(z)\n",
       "\\}\n",
       "\\end{minted}"
      ],
      "text/markdown": [
       "```r\n",
       "function (x, y) \n",
       "{\n",
       "    z <- x - y\n",
       "    return(z)\n",
       "}\n",
       "```"
      ],
      "text/plain": [
       "function(x,y){\n",
       "    z <- x-y\n",
       "    return(z)\n",
       "}"
      ]
     },
     "metadata": {},
     "output_type": "display_data"
    }
   ],
   "source": [
    "restaDosNumeros"
   ]
  },
  {
   "cell_type": "code",
   "execution_count": 7,
   "metadata": {},
   "outputs": [
    {
     "data": {
      "text/html": [
       "3"
      ],
      "text/latex": [
       "3"
      ],
      "text/markdown": [
       "3"
      ],
      "text/plain": [
       "[1] 3"
      ]
     },
     "metadata": {},
     "output_type": "display_data"
    }
   ],
   "source": [
    "restaDosNumeros(10,7)"
   ]
  },
  {
   "cell_type": "markdown",
   "metadata": {},
   "source": [
    "Podemos referenciar los parámetros por nombre:"
   ]
  },
  {
   "cell_type": "code",
   "execution_count": 8,
   "metadata": {},
   "outputs": [
    {
     "data": {
      "text/html": [
       "-3"
      ],
      "text/latex": [
       "-3"
      ],
      "text/markdown": [
       "-3"
      ],
      "text/plain": [
       "[1] -3"
      ]
     },
     "metadata": {},
     "output_type": "display_data"
    }
   ],
   "source": [
    "restaDosNumeros(y=10,x=7)"
   ]
  },
  {
   "cell_type": "markdown",
   "metadata": {},
   "source": [
    "Podemos definir parámetros opcionales con un valor por defecto."
   ]
  },
  {
   "cell_type": "code",
   "execution_count": 9,
   "metadata": {},
   "outputs": [],
   "source": [
    "restaDosNumerosConEscala <- function(x, y, scale=1){\n",
    "    (x-y)*scale    \n",
    "}"
   ]
  },
  {
   "cell_type": "code",
   "execution_count": 10,
   "metadata": {},
   "outputs": [
    {
     "data": {
      "text/html": [
       "3"
      ],
      "text/latex": [
       "3"
      ],
      "text/markdown": [
       "3"
      ],
      "text/plain": [
       "[1] 3"
      ]
     },
     "metadata": {},
     "output_type": "display_data"
    }
   ],
   "source": [
    "restaDosNumerosConEscala(10,7)"
   ]
  },
  {
   "cell_type": "code",
   "execution_count": 11,
   "metadata": {},
   "outputs": [
    {
     "data": {
      "text/html": [
       "15"
      ],
      "text/latex": [
       "15"
      ],
      "text/markdown": [
       "15"
      ],
      "text/plain": [
       "[1] 15"
      ]
     },
     "metadata": {},
     "output_type": "display_data"
    }
   ],
   "source": [
    "restaDosNumerosConEscala(10,7,5)"
   ]
  },
  {
   "cell_type": "markdown",
   "metadata": {},
   "source": [
    "Las funciones en R son objetos como puede ser un número, un vector o un data frame."
   ]
  },
  {
   "cell_type": "code",
   "execution_count": 12,
   "metadata": {},
   "outputs": [
    {
     "data": {
      "text/html": [
       "<style>\n",
       ".list-inline {list-style: none; margin:0; padding: 0}\n",
       ".list-inline>li {display: inline-block}\n",
       ".list-inline>li:not(:last-child)::after {content: \"\\00b7\"; padding: 0 .5ex}\n",
       "</style>\n",
       "<ol class=list-inline><li>'restaDosNumeros'</li><li>'restaDosNumerosConEscala'</li></ol>\n"
      ],
      "text/latex": [
       "\\begin{enumerate*}\n",
       "\\item 'restaDosNumeros'\n",
       "\\item 'restaDosNumerosConEscala'\n",
       "\\end{enumerate*}\n"
      ],
      "text/markdown": [
       "1. 'restaDosNumeros'\n",
       "2. 'restaDosNumerosConEscala'\n",
       "\n",
       "\n"
      ],
      "text/plain": [
       "[1] \"restaDosNumeros\"          \"restaDosNumerosConEscala\""
      ]
     },
     "metadata": {},
     "output_type": "display_data"
    }
   ],
   "source": [
    "ls()"
   ]
  },
  {
   "cell_type": "markdown",
   "metadata": {},
   "source": [
    "Podemos ver su contenido llamando al nombre del objeto, sin paréntesis."
   ]
  },
  {
   "cell_type": "code",
   "execution_count": 18,
   "metadata": {},
   "outputs": [
    {
     "data": {
      "text/html": [
       "<pre class=language-r><code>function (x, y, scale = 1) \n",
       "{\n",
       "<span style=white-space:pre-wrap>    (x - y) * scale</span>\n",
       "}</code></pre>"
      ],
      "text/latex": [
       "\\begin{minted}{r}\n",
       "function (x, y, scale = 1) \n",
       "\\{\n",
       "    (x - y) * scale\n",
       "\\}\n",
       "\\end{minted}"
      ],
      "text/markdown": [
       "```r\n",
       "function (x, y, scale = 1) \n",
       "{\n",
       "    (x - y) * scale\n",
       "}\n",
       "```"
      ],
      "text/plain": [
       "function(x, y, scale=1){\n",
       "    (x-y)*scale    \n",
       "}\n",
       "<bytecode: 0x55cbe3985a48>"
      ]
     },
     "metadata": {},
     "output_type": "display_data"
    }
   ],
   "source": [
    "restaDosNumerosConEscala"
   ]
  },
  {
   "cell_type": "markdown",
   "metadata": {},
   "source": [
    "## Estimador estadístico\n",
    "\n",
    "Vamos a ver varios ejemplos de funciones en R utilizando estimadores estadísticos.\n",
    "\n",
    "Un [estimador](https://es.wikipedia.org/wiki/Estimador) es un estadístico (esto es, una función de la muestra) usado para estimar un parámetro desconocido de la población.\n",
    "\n",
    "Un estimador es una función que coje valores de una muestra de datos y hace un resumen, **estima un valor que define la muestra**."
   ]
  },
  {
   "cell_type": "markdown",
   "metadata": {},
   "source": [
    "Como ejemplo de población utilizaremos el siguiente vector de alturas:"
   ]
  },
  {
   "cell_type": "code",
   "execution_count": 19,
   "metadata": {},
   "outputs": [],
   "source": [
    "alturas<-c(1.80,1.60,1.50,1.90,1.75,1.63,1.65)"
   ]
  },
  {
   "cell_type": "markdown",
   "metadata": {},
   "source": [
    "### Media aritmética\n",
    "\n",
    "En matemáticas y estadística, la [media aritmética](https://es.wikipedia.org/wiki/Media_aritm%C3%A9tica) (también llamada promedio o media) de un conjunto finito de números es el valor característico de una serie de datos cuantitativos, objeto de estudio que parte del principio de la esperanza matemática o valor esperado, se obtiene a partir de la suma de todos sus valores dividida entre el número de sumandos. "
   ]
  },
  {
   "cell_type": "markdown",
   "metadata": {},
   "source": [
    "\\\\[ \\bar{x} =  \\frac{1}{N} \\sum _{i=1}^N x_i\\\\]"
   ]
  },
  {
   "cell_type": "markdown",
   "metadata": {},
   "source": [
    "En R la función de la media se podría definir así:"
   ]
  },
  {
   "cell_type": "code",
   "execution_count": 20,
   "metadata": {},
   "outputs": [],
   "source": [
    "myMean<-function(X){\n",
    "    m <- 0\n",
    "    for (xi in X){\n",
    "        m <- m+xi\n",
    "    }\n",
    "    # equivalente a: m <- sum(X)\n",
    "    return(m/length(X))    \n",
    "}"
   ]
  },
  {
   "cell_type": "code",
   "execution_count": 21,
   "metadata": {},
   "outputs": [
    {
     "data": {
      "text/html": [
       "1.69"
      ],
      "text/latex": [
       "1.69"
      ],
      "text/markdown": [
       "1.69"
      ],
      "text/plain": [
       "[1] 1.69"
      ]
     },
     "metadata": {},
     "output_type": "display_data"
    }
   ],
   "source": [
    "myMean(alturas)"
   ]
  },
  {
   "cell_type": "code",
   "execution_count": 25,
   "metadata": {},
   "outputs": [
    {
     "data": {
      "text/html": [
       "1.69"
      ],
      "text/latex": [
       "1.69"
      ],
      "text/markdown": [
       "1.69"
      ],
      "text/plain": [
       "[1] 1.69"
      ]
     },
     "metadata": {},
     "output_type": "display_data"
    }
   ],
   "source": [
    "sum(alturas)/length(alturas)"
   ]
  },
  {
   "cell_type": "markdown",
   "metadata": {},
   "source": [
    "Evidentemente R tiene una función para la media cuya ejecución es mucho más rápida que nuestra función:"
   ]
  },
  {
   "cell_type": "code",
   "execution_count": 22,
   "metadata": {},
   "outputs": [
    {
     "data": {
      "text/html": [
       "1.69"
      ],
      "text/latex": [
       "1.69"
      ],
      "text/markdown": [
       "1.69"
      ],
      "text/plain": [
       "[1] 1.69"
      ]
     },
     "metadata": {},
     "output_type": "display_data"
    }
   ],
   "source": [
    "mean(alturas)"
   ]
  },
  {
   "cell_type": "markdown",
   "metadata": {},
   "source": [
    "### Media truncada\n",
    "\n",
    "La media truncada se utiliza cuando queremos quitar los $2p$ elementos más extremos ($p$ elementos por arriba y $p$ por abajo) del array del cómputo de la media. La media truncada es un estimador más robusto que la media.\n",
    "\n",
    "\\\\[ \\bar{x} =  \\frac{1}{N-2p} \\sum _{i=p+1}^{N-p} x_i\\\\]\n",
    "\n",
    "En R se utiliza la función $mean$ con el parámetro $trim$ que indica que porcentaje de elementos del array eliminamos antes de hacer la media"
   ]
  },
  {
   "cell_type": "code",
   "execution_count": 30,
   "metadata": {},
   "outputs": [
    {
     "data": {
      "text/html": [
       "<style>\n",
       ".list-inline {list-style: none; margin:0; padding: 0}\n",
       ".list-inline>li {display: inline-block}\n",
       ".list-inline>li:not(:last-child)::after {content: \"\\00b7\"; padding: 0 .5ex}\n",
       "</style>\n",
       "<ol class=list-inline><li>1.8</li><li>1.6</li><li>1.5</li><li>1.9</li><li>1.75</li><li>1.63</li><li>1.65</li><li>1820</li></ol>\n"
      ],
      "text/latex": [
       "\\begin{enumerate*}\n",
       "\\item 1.8\n",
       "\\item 1.6\n",
       "\\item 1.5\n",
       "\\item 1.9\n",
       "\\item 1.75\n",
       "\\item 1.63\n",
       "\\item 1.65\n",
       "\\item 1820\n",
       "\\end{enumerate*}\n"
      ],
      "text/markdown": [
       "1. 1.8\n",
       "2. 1.6\n",
       "3. 1.5\n",
       "4. 1.9\n",
       "5. 1.75\n",
       "6. 1.63\n",
       "7. 1.65\n",
       "8. 1820\n",
       "\n",
       "\n"
      ],
      "text/plain": [
       "[1]    1.80    1.60    1.50    1.90    1.75    1.63    1.65 1820.00"
      ]
     },
     "metadata": {},
     "output_type": "display_data"
    }
   ],
   "source": [
    "alturas2 <- c(alturas,1820)\n",
    "alturas2"
   ]
  },
  {
   "cell_type": "code",
   "execution_count": 31,
   "metadata": {},
   "outputs": [
    {
     "data": {
      "text/html": [
       "228.97875"
      ],
      "text/latex": [
       "228.97875"
      ],
      "text/markdown": [
       "228.97875"
      ],
      "text/plain": [
       "[1] 228.9787"
      ]
     },
     "metadata": {},
     "output_type": "display_data"
    }
   ],
   "source": [
    "mean(alturas2)"
   ]
  },
  {
   "cell_type": "code",
   "execution_count": 32,
   "metadata": {},
   "outputs": [
    {
     "data": {
      "text/html": [
       "1.686"
      ],
      "text/latex": [
       "1.686"
      ],
      "text/markdown": [
       "1.686"
      ],
      "text/plain": [
       "[1] 1.686"
      ]
     },
     "metadata": {},
     "output_type": "display_data"
    }
   ],
   "source": [
    "mean(alturas,trim = 0.2)"
   ]
  },
  {
   "cell_type": "code",
   "execution_count": 33,
   "metadata": {},
   "outputs": [],
   "source": [
    "?mean"
   ]
  },
  {
   "cell_type": "markdown",
   "metadata": {},
   "source": [
    "### Media geométrica\n",
    "\n",
    "La [media geométrica](https://es.wikipedia.org/wiki/Media_geom%C3%A9trica) de una cantidad arbitraria de números (por decir n números) es la raíz n-ésima del producto de todos los números."
   ]
  },
  {
   "cell_type": "markdown",
   "metadata": {},
   "source": [
    "\\\\[  \\sqrt[N] {\\prod _{i=1}^N x_i }\\\\]\n",
    "\n",
    "Es equivalente a:\n",
    "\\\\[\n",
    "     e^{\\frac{1}{N} \\sum _{i=1}^N log(x_i)}\n",
    "\\\\]"
   ]
  },
  {
   "cell_type": "code",
   "execution_count": 39,
   "metadata": {},
   "outputs": [],
   "source": [
    "myGeometricMean<-function(X,na.rm=F){\n",
    "    if (na.rm==T){\n",
    "        X <- na.omit(X)\n",
    "    }\n",
    "    \n",
    "    m <- 1\n",
    "    for (xi in X){\n",
    "        m <- m*xi        \n",
    "    }\n",
    "    m^(1/length(X))\n",
    "    #exp(mean(log(x)))    \n",
    "}"
   ]
  },
  {
   "cell_type": "markdown",
   "metadata": {},
   "source": [
    "**¿Cual es el TAE medio en el cambio Bitcoins en doláres desde 2011?**\n",
    "\n",
    "En la siguiente tabla podemos ver el precio en dólares a principios de cada año, junto con su revalorización porcentual durante ese año."
   ]
  },
  {
   "cell_type": "code",
   "execution_count": 35,
   "metadata": {},
   "outputs": [],
   "source": [
    "year<-c(2010,2011,2012,2013,2014,2015,2016,2017,2018,2019,2020,2021,2022)\n",
    "value<-c(0.3, 4.7,13.2,760,316,430,980,12000,13400,3200,6500,32000,47000)\n",
    "ratio<-c(NA,value[2:length(value)]/value[1:length(value)-1])\n",
    "rate<-(ratio-1)*100"
   ]
  },
  {
   "cell_type": "code",
   "execution_count": 36,
   "metadata": {},
   "outputs": [
    {
     "data": {
      "text/html": [
       "<table class=\"dataframe\">\n",
       "<caption>A data.frame: 13 × 4</caption>\n",
       "<thead>\n",
       "\t<tr><th scope=col>año</th><th scope=col>valor</th><th scope=col>TAE</th><th scope=col>ratio</th></tr>\n",
       "\t<tr><th scope=col>&lt;dbl&gt;</th><th scope=col>&lt;dbl&gt;</th><th scope=col>&lt;dbl&gt;</th><th scope=col>&lt;dbl&gt;</th></tr>\n",
       "</thead>\n",
       "<tbody>\n",
       "\t<tr><td>2010</td><td>    0.3</td><td>     NA</td><td>     NA</td></tr>\n",
       "\t<tr><td>2011</td><td>    4.7</td><td>1466.67</td><td>15.6667</td></tr>\n",
       "\t<tr><td>2012</td><td>   13.2</td><td> 180.85</td><td> 2.8085</td></tr>\n",
       "\t<tr><td>2013</td><td>  760.0</td><td>5657.58</td><td>57.5758</td></tr>\n",
       "\t<tr><td>2014</td><td>  316.0</td><td> -58.42</td><td> 0.4158</td></tr>\n",
       "\t<tr><td>2015</td><td>  430.0</td><td>  36.08</td><td> 1.3608</td></tr>\n",
       "\t<tr><td>2016</td><td>  980.0</td><td> 127.91</td><td> 2.2791</td></tr>\n",
       "\t<tr><td>2017</td><td>12000.0</td><td>1124.49</td><td>12.2449</td></tr>\n",
       "\t<tr><td>2018</td><td>13400.0</td><td>  11.67</td><td> 1.1167</td></tr>\n",
       "\t<tr><td>2019</td><td> 3200.0</td><td> -76.12</td><td> 0.2388</td></tr>\n",
       "\t<tr><td>2020</td><td> 6500.0</td><td> 103.12</td><td> 2.0312</td></tr>\n",
       "\t<tr><td>2021</td><td>32000.0</td><td> 392.31</td><td> 4.9231</td></tr>\n",
       "\t<tr><td>2022</td><td>47000.0</td><td>  46.88</td><td> 1.4688</td></tr>\n",
       "</tbody>\n",
       "</table>\n"
      ],
      "text/latex": [
       "A data.frame: 13 × 4\n",
       "\\begin{tabular}{llll}\n",
       " año & valor & TAE & ratio\\\\\n",
       " <dbl> & <dbl> & <dbl> & <dbl>\\\\\n",
       "\\hline\n",
       "\t 2010 &     0.3 &      NA &      NA\\\\\n",
       "\t 2011 &     4.7 & 1466.67 & 15.6667\\\\\n",
       "\t 2012 &    13.2 &  180.85 &  2.8085\\\\\n",
       "\t 2013 &   760.0 & 5657.58 & 57.5758\\\\\n",
       "\t 2014 &   316.0 &  -58.42 &  0.4158\\\\\n",
       "\t 2015 &   430.0 &   36.08 &  1.3608\\\\\n",
       "\t 2016 &   980.0 &  127.91 &  2.2791\\\\\n",
       "\t 2017 & 12000.0 & 1124.49 & 12.2449\\\\\n",
       "\t 2018 & 13400.0 &   11.67 &  1.1167\\\\\n",
       "\t 2019 &  3200.0 &  -76.12 &  0.2388\\\\\n",
       "\t 2020 &  6500.0 &  103.12 &  2.0312\\\\\n",
       "\t 2021 & 32000.0 &  392.31 &  4.9231\\\\\n",
       "\t 2022 & 47000.0 &   46.88 &  1.4688\\\\\n",
       "\\end{tabular}\n"
      ],
      "text/markdown": [
       "\n",
       "A data.frame: 13 × 4\n",
       "\n",
       "| año &lt;dbl&gt; | valor &lt;dbl&gt; | TAE &lt;dbl&gt; | ratio &lt;dbl&gt; |\n",
       "|---|---|---|---|\n",
       "| 2010 |     0.3 |      NA |      NA |\n",
       "| 2011 |     4.7 | 1466.67 | 15.6667 |\n",
       "| 2012 |    13.2 |  180.85 |  2.8085 |\n",
       "| 2013 |   760.0 | 5657.58 | 57.5758 |\n",
       "| 2014 |   316.0 |  -58.42 |  0.4158 |\n",
       "| 2015 |   430.0 |   36.08 |  1.3608 |\n",
       "| 2016 |   980.0 |  127.91 |  2.2791 |\n",
       "| 2017 | 12000.0 | 1124.49 | 12.2449 |\n",
       "| 2018 | 13400.0 |   11.67 |  1.1167 |\n",
       "| 2019 |  3200.0 |  -76.12 |  0.2388 |\n",
       "| 2020 |  6500.0 |  103.12 |  2.0312 |\n",
       "| 2021 | 32000.0 |  392.31 |  4.9231 |\n",
       "| 2022 | 47000.0 |   46.88 |  1.4688 |\n",
       "\n"
      ],
      "text/plain": [
       "   año  valor   TAE     ratio  \n",
       "1  2010     0.3      NA      NA\n",
       "2  2011     4.7 1466.67 15.6667\n",
       "3  2012    13.2  180.85  2.8085\n",
       "4  2013   760.0 5657.58 57.5758\n",
       "5  2014   316.0  -58.42  0.4158\n",
       "6  2015   430.0   36.08  1.3608\n",
       "7  2016   980.0  127.91  2.2791\n",
       "8  2017 12000.0 1124.49 12.2449\n",
       "9  2018 13400.0   11.67  1.1167\n",
       "10 2019  3200.0  -76.12  0.2388\n",
       "11 2020  6500.0  103.12  2.0312\n",
       "12 2021 32000.0  392.31  4.9231\n",
       "13 2022 47000.0   46.88  1.4688"
      ]
     },
     "metadata": {},
     "output_type": "display_data"
    }
   ],
   "source": [
    "bitcoinValue<-data.frame(año=year,valor=value,TAE=round(rate,2),ratio=round(ratio,4))\n",
    "bitcoinValue"
   ]
  },
  {
   "cell_type": "code",
   "execution_count": 37,
   "metadata": {},
   "outputs": [
    {
     "name": "stdout",
     "output_type": "stream",
     "text": [
      "[1] \"La media aritmética de todos los interes TAE es: 751.08%\"\n"
     ]
    }
   ],
   "source": [
    "print(paste0(\"La media aritmética de todos los interes TAE es: \",\n",
    "             round(mean(bitcoinValue$TAE,na.rm=T),2),\"%\"))"
   ]
  },
  {
   "cell_type": "code",
   "execution_count": 41,
   "metadata": {},
   "outputs": [
    {
     "data": {
      "text/html": [
       "8.51085"
      ],
      "text/latex": [
       "8.51085"
      ],
      "text/markdown": [
       "8.51085"
      ],
      "text/plain": [
       "[1] 8.51085"
      ]
     },
     "metadata": {},
     "output_type": "display_data"
    }
   ],
   "source": [
    "mean(bitcoinValue$ratio,na.rm=T)"
   ]
  },
  {
   "cell_type": "code",
   "execution_count": 40,
   "metadata": {},
   "outputs": [
    {
     "data": {
      "text/html": [
       "2.70967902441367"
      ],
      "text/latex": [
       "2.70967902441367"
      ],
      "text/markdown": [
       "2.70967902441367"
      ],
      "text/plain": [
       "[1] 2.709679"
      ]
     },
     "metadata": {},
     "output_type": "display_data"
    }
   ],
   "source": [
    "myGeometricMean(bitcoinValue$ratio,na.rm=T)"
   ]
  },
  {
   "cell_type": "code",
   "execution_count": 42,
   "metadata": {},
   "outputs": [
    {
     "name": "stdout",
     "output_type": "stream",
     "text": [
      "[1] \"La media real de todos los interes TAE es:170.97%\"\n"
     ]
    }
   ],
   "source": [
    "realTAEmean<-(myGeometricMean(bitcoinValue$ratio,na.rm=T)-1)*100\n",
    "print(paste0(\"La media real de todos los interes TAE es:\",\n",
    "             round(realTAEmean,2),\"%\"))"
   ]
  },
  {
   "cell_type": "code",
   "execution_count": 45,
   "metadata": {},
   "outputs": [
    {
     "name": "stdout",
     "output_type": "stream",
     "text": [
      "[1] \"Si hubieramos invertido $0.3 a un interés del 170.97% TAE, 12 años después tendríamos $47004\"\n"
     ]
    }
   ],
   "source": [
    "initialAmount<-0.3\n",
    "\n",
    "print(paste0(\"Si hubieramos invertido $\",initialAmount,\" a un interés del \",round(realTAEmean,2),\n",
    "             \"% TAE, 12 años después tendríamos $\", round(initialAmount*(realTAEmean/100+1)^12)))"
   ]
  },
  {
   "cell_type": "markdown",
   "metadata": {},
   "source": [
    "![Imagen no cargada. Edita y borra la @ ](https://akifrases.com/frases-imagenes/frase-el-interes-compuesto-es-la-fuerza-mas-poderosa-de-la-galaxia-albert-einstein-110175.jpg )\n"
   ]
  },
  {
   "cell_type": "markdown",
   "metadata": {},
   "source": [
    "![Imagen no cargada. Edita y borra la @ ]( https://i.pinimg.com/originals/f0/a7/28/f0a72881dabf1602f49665f714458c15.jpg  )\n"
   ]
  },
  {
   "cell_type": "markdown",
   "metadata": {},
   "source": [
    "### Varianza / desviación típica\n",
    "\n",
    "La [variancia](https://es.wikipedia.org/wiki/Varianza) (que suele representarse como $\\sigma ^{2}$,$s^2$ o $Var(X)$) de una variable aleatoria es una medida de dispersión definida como la esperanza del cuadrado de la desviación de dicha variable respecto a su media. O en pocas palabras, es la media de los residuos al cuadrado.\n",
    "\n",
    "Es decir, define lo mucho que varía una variable aleatoria respecto a la media:\n",
    "* Si todos los valores son iguales, no hay variación, la varianza es 0.\n",
    "* Si los valores son muy diferentes unos de otros la varianza es alta.\n",
    "\n",
    "\n",
    "El motivo de usar el cuadrado es porque queremos ver lo mucho que cambia cada elemento sin importar su signo, si cambia por *arriba* o por *abajo*, el signo se elimina. El hecho de ser una función al cuadrado también da mayor importancia a los valores extremos. El problema que esto origina es que las unidades de la varianza están ambién al cuadrado, por ello, a veces se utiliza la **desviación típica**.\n",
    "\n",
    "La raíz cuadrada de la *varianza* es la **desviación típica** que indica **como de típica es la desviación respecto a la media en sus mismas unidades**."
   ]
  },
  {
   "cell_type": "markdown",
   "metadata": {},
   "source": [
    "\\\\[ Var[x] =  \\frac{1}{N} \\sum _{i=1}^N \\left( x_i-\\bar{x} \\right)^2 \\\\]\n",
    "\n"
   ]
  },
  {
   "cell_type": "markdown",
   "metadata": {},
   "source": [
    "En R la función de la varianza se podría definir así:"
   ]
  },
  {
   "cell_type": "code",
   "execution_count": 52,
   "metadata": {},
   "outputs": [],
   "source": [
    "myVar<-function(X){\n",
    "    v <- 0\n",
    "    m <- mean(X)\n",
    "    for (xi in X){\n",
    "        v <- v+(xi-m)^2\n",
    "    }\n",
    "    return(v/length(X))\n",
    "}"
   ]
  },
  {
   "cell_type": "code",
   "execution_count": 53,
   "metadata": {},
   "outputs": [
    {
     "name": "stdout",
     "output_type": "stream",
     "text": [
      "[1] \"La varianza es: 0.0156\"\n",
      "[1] \"La desviación típica es: 0.124899959967968\"\n"
     ]
    }
   ],
   "source": [
    "print(paste(\"La varianza es:\",myVar(alturas)))\n",
    "print(paste(\"La desviación típica es:\",sqrt(myVar(alturas))))"
   ]
  },
  {
   "cell_type": "markdown",
   "metadata": {},
   "source": [
    "Evidentemente R tiene una función para la varianza (*var*) y la desviación típica (*sd*) cuya ejecución es mucho más rápida que nuestra función:"
   ]
  },
  {
   "cell_type": "code",
   "execution_count": 54,
   "metadata": {},
   "outputs": [
    {
     "name": "stdout",
     "output_type": "stream",
     "text": [
      "[1] \"La varianza es: 0.0182\"\n",
      "[1] \"La desviación típica es: 0.13490737563232\"\n"
     ]
    }
   ],
   "source": [
    "print(paste(\"La varianza es:\",var(alturas)))\n",
    "print(paste(\"La desviación típica es:\",sd(alturas)))"
   ]
  },
  {
   "cell_type": "code",
   "execution_count": 49,
   "metadata": {},
   "outputs": [],
   "source": [
    "?var"
   ]
  },
  {
   "cell_type": "markdown",
   "metadata": {},
   "source": [
    "La varianza es un estimador sesgado y R utiliza la fórmula del estimador no sesgado. Veremos que significa eso en el futuro."
   ]
  },
  {
   "cell_type": "markdown",
   "metadata": {},
   "source": [
    "#### Ejemplo varianza acciones\n",
    "\n",
    "En la siguiente tabla tenemos el valor que una acción ha incrementado su precio respecto al día anterior. Miramos dos acciones, las de Telefónica y Tesla."
   ]
  },
  {
   "cell_type": "code",
   "execution_count": 55,
   "metadata": {},
   "outputs": [
    {
     "name": "stdout",
     "output_type": "stream",
     "text": [
      "'data.frame':\t251 obs. of  3 variables:\n",
      " $ date: chr  \"2017-02-01\" \"2017-02-02\" \"2017-02-03\" \"2017-02-06\" ...\n",
      " $ TEF : num  1.102 0.489 -1.494 -0.258 0.372 ...\n",
      " $ TSLA: num  0.9268 -0.0875 2.5624 -0.1125 1.7865 ...\n"
     ]
    }
   ],
   "source": [
    "myStocks<-read.csv(\"data/stockRatio.csv\",stringsAsFactor=F)\n",
    "str(myStocks)"
   ]
  },
  {
   "cell_type": "code",
   "execution_count": 56,
   "metadata": {},
   "outputs": [
    {
     "data": {
      "text/plain": [
       "     date                TEF                TSLA        \n",
       " Length:251         Min.   :-4.01914   Min.   :-7.2401  \n",
       " Class :character   1st Qu.:-0.64321   1st Qu.:-1.0714  \n",
       " Mode  :character   Median :-0.04963   Median : 0.1354  \n",
       "                    Mean   : 0.01485   Mean   : 0.1655  \n",
       "                    3rd Qu.: 0.56653   3rd Qu.: 1.5869  \n",
       "                    Max.   : 3.47742   Max.   : 7.2655  "
      ]
     },
     "metadata": {},
     "output_type": "display_data"
    }
   ],
   "source": [
    "summary(myStocks)"
   ]
  },
  {
   "cell_type": "code",
   "execution_count": 57,
   "metadata": {},
   "outputs": [
    {
     "data": {
      "text/html": [
       "<style>\n",
       ".list-inline {list-style: none; margin:0; padding: 0}\n",
       ".list-inline>li {display: inline-block}\n",
       ".list-inline>li:not(:last-child)::after {content: \"\\00b7\"; padding: 0 .5ex}\n",
       "</style>\n",
       "<ol class=list-inline><li>'2017-02-01'</li><li>'2017-02-02'</li><li>'2017-02-03'</li><li>'2017-02-06'</li><li>'2017-02-07'</li><li>'2017-02-08'</li></ol>\n"
      ],
      "text/latex": [
       "\\begin{enumerate*}\n",
       "\\item '2017-02-01'\n",
       "\\item '2017-02-02'\n",
       "\\item '2017-02-03'\n",
       "\\item '2017-02-06'\n",
       "\\item '2017-02-07'\n",
       "\\item '2017-02-08'\n",
       "\\end{enumerate*}\n"
      ],
      "text/markdown": [
       "1. '2017-02-01'\n",
       "2. '2017-02-02'\n",
       "3. '2017-02-03'\n",
       "4. '2017-02-06'\n",
       "5. '2017-02-07'\n",
       "6. '2017-02-08'\n",
       "\n",
       "\n"
      ],
      "text/plain": [
       "[1] \"2017-02-01\" \"2017-02-02\" \"2017-02-03\" \"2017-02-06\" \"2017-02-07\"\n",
       "[6] \"2017-02-08\""
      ]
     },
     "metadata": {},
     "output_type": "display_data"
    }
   ],
   "source": [
    "head(myStocks$date)"
   ]
  },
  {
   "cell_type": "code",
   "execution_count": 58,
   "metadata": {},
   "outputs": [
    {
     "name": "stdout",
     "output_type": "stream",
     "text": [
      "'data.frame':\t251 obs. of  3 variables:\n",
      " $ date: Date, format: \"2017-02-01\" \"2017-02-02\" ...\n",
      " $ TEF : num  1.102 0.489 -1.494 -0.258 0.372 ...\n",
      " $ TSLA: num  0.9268 -0.0875 2.5624 -0.1125 1.7865 ...\n"
     ]
    }
   ],
   "source": [
    "myStocks$date<-as.Date(myStocks$date, format=\"%Y-%m-%d\")\n",
    "str(myStocks)"
   ]
  },
  {
   "cell_type": "code",
   "execution_count": 59,
   "metadata": {},
   "outputs": [
    {
     "data": {
      "text/plain": [
       "      date                 TEF                TSLA        \n",
       " Min.   :2017-02-01   Min.   :-4.01914   Min.   :-7.2401  \n",
       " 1st Qu.:2017-05-03   1st Qu.:-0.64321   1st Qu.:-1.0714  \n",
       " Median :2017-07-31   Median :-0.04963   Median : 0.1354  \n",
       " Mean   :2017-07-29   Mean   : 0.01485   Mean   : 0.1655  \n",
       " 3rd Qu.:2017-10-25   3rd Qu.: 0.56653   3rd Qu.: 1.5869  \n",
       " Max.   :2018-01-25   Max.   : 3.47742   Max.   : 7.2655  "
      ]
     },
     "metadata": {},
     "output_type": "display_data"
    }
   ],
   "source": [
    "summary(myStocks)"
   ]
  },
  {
   "cell_type": "code",
   "execution_count": 60,
   "metadata": {},
   "outputs": [
    {
     "data": {
      "image/png": "[encoded data removed]",
      "text/plain": [
       "plot without title"
      ]
     },
     "metadata": {
      "image/png": {
       "height": 400,
       "width": 600
      }
     },
     "output_type": "display_data"
    }
   ],
   "source": [
    "options(repr.plot.height=4,repr.plot.width=6)\n",
    "\n",
    "plot(myStocks$date,   myStocks$TSLA,xlab= \"Fecha\", ylab=\"%\", col=\"blue\")\n",
    "points(myStocks$date, myStocks$TEF, xlab= \"Fecha\", ylab=\"%\", col=\"red\",pch=\"*\")\n",
    "legend(myStocks$date[2],7,c(\"TESLA\",\"TEF\"), pch=c(\"o\",\"*\"),col=c(\"blue\",\"red\"), y.intersp = 2)\n",
    "grid()"
   ]
  },
  {
   "cell_type": "markdown",
   "metadata": {},
   "source": [
    "En la gráfica podemos ver como las acciones de Tesla varían mucho más que las acciones de las de telefónica. Mientras que las acciones de Tesla tienen jornadas donde las subidas o bajadas exceden el 5%, en Telefónica raro es el día que varían más del 3%.\n",
    "\n",
    "La varianza es el estimador estadístico que mejor refleja estos cambios:"
   ]
  },
  {
   "cell_type": "code",
   "execution_count": 61,
   "metadata": {},
   "outputs": [
    {
     "data": {
      "text/html": [
       "'Varianza de TESLA: 5.06755256345548'"
      ],
      "text/latex": [
       "'Varianza de TESLA: 5.06755256345548'"
      ],
      "text/markdown": [
       "'Varianza de TESLA: 5.06755256345548'"
      ],
      "text/plain": [
       "[1] \"Varianza de TESLA: 5.06755256345548\""
      ]
     },
     "metadata": {},
     "output_type": "display_data"
    },
    {
     "data": {
      "text/html": [
       "'Varianza de TELEFONICA: 1.14676927374341'"
      ],
      "text/latex": [
       "'Varianza de TELEFONICA: 1.14676927374341'"
      ],
      "text/markdown": [
       "'Varianza de TELEFONICA: 1.14676927374341'"
      ],
      "text/plain": [
       "[1] \"Varianza de TELEFONICA: 1.14676927374341\""
      ]
     },
     "metadata": {},
     "output_type": "display_data"
    },
    {
     "data": {
      "text/html": [
       "'Desviación típica de TESLA: 2.25112251187168'"
      ],
      "text/latex": [
       "'Desviación típica de TESLA: 2.25112251187168'"
      ],
      "text/markdown": [
       "'Desviación típica de TESLA: 2.25112251187168'"
      ],
      "text/plain": [
       "[1] \"Desviación típica de TESLA: 2.25112251187168\""
      ]
     },
     "metadata": {},
     "output_type": "display_data"
    },
    {
     "data": {
      "text/html": [
       "'Desviación típica de TESLA: 1.07087313615732'"
      ],
      "text/latex": [
       "'Desviación típica de TESLA: 1.07087313615732'"
      ],
      "text/markdown": [
       "'Desviación típica de TESLA: 1.07087313615732'"
      ],
      "text/plain": [
       "[1] \"Desviación típica de TESLA: 1.07087313615732\""
      ]
     },
     "metadata": {},
     "output_type": "display_data"
    }
   ],
   "source": [
    "paste(\"Varianza de TESLA:\",var(myStocks$TSLA))\n",
    "paste(\"Varianza de TELEFONICA:\",var(myStocks$TEF))\n",
    "paste(\"Desviación típica de TESLA:\",sd(myStocks$TSLA))\n",
    "paste(\"Desviación típica de TESLA:\",sd(myStocks$TEF))"
   ]
  },
  {
   "cell_type": "markdown",
   "metadata": {
    "collapsed": true
   },
   "source": [
    "#### Desigualdad de Chebyshev (Нера́венство Чебышёва)\n",
    "\n",
    "La desigualdad de Chebyshev es un resultado que ofrece una cota superior a la probabilidad de que el valor de una variable aleatoria con varianza finita esté a una cierta distancia de su esperanza matemática."
   ]
  },
  {
   "cell_type": "markdown",
   "metadata": {},
   "source": [
    "\\\\[ Pr\\left( |X-\\bar{x}| \\geq k · \\sigma \\right) \\leq \\frac{1}{k^2} \\\\] "
   ]
  },
  {
   "cell_type": "markdown",
   "metadata": {},
   "source": [
    "O dicho de otras palabras, la probabilidad de que haya valores **fuera** del intervalo $\\left[ \\bar{x}-k\\sigma, \\bar{x}+k\\sigma \\right]$ es menor o igual a $1/{k^2}$.\n",
    "\n",
    "La desigualdad de Chebyshev es un límite muy pesimista, se pueden obtener mejores resultados cuando la distribución es conocida."
   ]
  },
  {
   "cell_type": "markdown",
   "metadata": {},
   "source": [
    "#### Ejemplo Alturas\n",
    "\n",
    "Si miramos el vector de alturas anterior, podemos sacar una tabla en función de k.\n",
    "\n",
    "Por ejemplo podemos decir que como máximo el 44% ( $\\frac{1}{1.5^2}=0.4444$ ) de las muestras se encuentran fuera del intervalo $\\left[ \\bar{x}-k\\sigma, \\bar{x}+k\\sigma \\right]= [1.69-1.5·0.135,1.69+1.5·0.135]=[1.487639\t,1.892361]$"
   ]
  },
  {
   "cell_type": "code",
   "execution_count": 62,
   "metadata": {},
   "outputs": [
    {
     "data": {
      "text/html": [
       "<table class=\"dataframe\">\n",
       "<caption>A data.frame: 9 × 4</caption>\n",
       "<thead>\n",
       "\t<tr><th scope=col>limite_inf</th><th scope=col>limite_sup</th><th scope=col>prob</th><th scope=col>k</th></tr>\n",
       "\t<tr><th scope=col>&lt;dbl&gt;</th><th scope=col>&lt;dbl&gt;</th><th scope=col>&lt;dbl&gt;</th><th scope=col>&lt;dbl&gt;</th></tr>\n",
       "</thead>\n",
       "<tbody>\n",
       "\t<tr><td>1.553744</td><td>1.826256</td><td>0.98029605</td><td>1.01</td></tr>\n",
       "\t<tr><td>1.487639</td><td>1.892361</td><td>0.44444444</td><td>1.50</td></tr>\n",
       "\t<tr><td>1.420185</td><td>1.959815</td><td>0.25000000</td><td>2.00</td></tr>\n",
       "\t<tr><td>1.352732</td><td>2.027268</td><td>0.16000000</td><td>2.50</td></tr>\n",
       "\t<tr><td>1.285278</td><td>2.094722</td><td>0.11111111</td><td>3.00</td></tr>\n",
       "\t<tr><td>1.217824</td><td>2.162176</td><td>0.08163265</td><td>3.50</td></tr>\n",
       "\t<tr><td>1.150370</td><td>2.229630</td><td>0.06250000</td><td>4.00</td></tr>\n",
       "\t<tr><td>1.082917</td><td>2.297083</td><td>0.04938272</td><td>4.50</td></tr>\n",
       "\t<tr><td>1.015463</td><td>2.364537</td><td>0.04000000</td><td>5.00</td></tr>\n",
       "</tbody>\n",
       "</table>\n"
      ],
      "text/latex": [
       "A data.frame: 9 × 4\n",
       "\\begin{tabular}{llll}\n",
       " limite\\_inf & limite\\_sup & prob & k\\\\\n",
       " <dbl> & <dbl> & <dbl> & <dbl>\\\\\n",
       "\\hline\n",
       "\t 1.553744 & 1.826256 & 0.98029605 & 1.01\\\\\n",
       "\t 1.487639 & 1.892361 & 0.44444444 & 1.50\\\\\n",
       "\t 1.420185 & 1.959815 & 0.25000000 & 2.00\\\\\n",
       "\t 1.352732 & 2.027268 & 0.16000000 & 2.50\\\\\n",
       "\t 1.285278 & 2.094722 & 0.11111111 & 3.00\\\\\n",
       "\t 1.217824 & 2.162176 & 0.08163265 & 3.50\\\\\n",
       "\t 1.150370 & 2.229630 & 0.06250000 & 4.00\\\\\n",
       "\t 1.082917 & 2.297083 & 0.04938272 & 4.50\\\\\n",
       "\t 1.015463 & 2.364537 & 0.04000000 & 5.00\\\\\n",
       "\\end{tabular}\n"
      ],
      "text/markdown": [
       "\n",
       "A data.frame: 9 × 4\n",
       "\n",
       "| limite_inf &lt;dbl&gt; | limite_sup &lt;dbl&gt; | prob &lt;dbl&gt; | k &lt;dbl&gt; |\n",
       "|---|---|---|---|\n",
       "| 1.553744 | 1.826256 | 0.98029605 | 1.01 |\n",
       "| 1.487639 | 1.892361 | 0.44444444 | 1.50 |\n",
       "| 1.420185 | 1.959815 | 0.25000000 | 2.00 |\n",
       "| 1.352732 | 2.027268 | 0.16000000 | 2.50 |\n",
       "| 1.285278 | 2.094722 | 0.11111111 | 3.00 |\n",
       "| 1.217824 | 2.162176 | 0.08163265 | 3.50 |\n",
       "| 1.150370 | 2.229630 | 0.06250000 | 4.00 |\n",
       "| 1.082917 | 2.297083 | 0.04938272 | 4.50 |\n",
       "| 1.015463 | 2.364537 | 0.04000000 | 5.00 |\n",
       "\n"
      ],
      "text/plain": [
       "  limite_inf limite_sup prob       k   \n",
       "1 1.553744   1.826256   0.98029605 1.01\n",
       "2 1.487639   1.892361   0.44444444 1.50\n",
       "3 1.420185   1.959815   0.25000000 2.00\n",
       "4 1.352732   2.027268   0.16000000 2.50\n",
       "5 1.285278   2.094722   0.11111111 3.00\n",
       "6 1.217824   2.162176   0.08163265 3.50\n",
       "7 1.150370   2.229630   0.06250000 4.00\n",
       "8 1.082917   2.297083   0.04938272 4.50\n",
       "9 1.015463   2.364537   0.04000000 5.00"
      ]
     },
     "metadata": {},
     "output_type": "display_data"
    }
   ],
   "source": [
    "k <- c(1.01,seq(from=1.5, to=5, by=0.5))\n",
    "\n",
    "margen <- data.frame(limite_inf=mean(alturas)-k*sd(alturas),\n",
    "                     limite_sup=mean(alturas)+k*sd(alturas),\n",
    "                     prob = 1/k^2,\n",
    "                     k\n",
    "                    )\n",
    "margen\n"
   ]
  },
  {
   "cell_type": "code",
   "execution_count": 63,
   "metadata": {},
   "outputs": [
    {
     "data": {
      "image/png": "[encoded data removed]",
      "text/plain": [
       "Plot with title “Desigualdad de Chebyshev”"
      ]
     },
     "metadata": {
      "image/png": {
       "height": 400,
       "width": 600
      }
     },
     "output_type": "display_data"
    }
   ],
   "source": [
    "plot(margen$k,margen$prob,t='l',xlab=\"k\",ylab=\"Probabilidad\",main=\"Desigualdad de Chebyshev\")\n",
    "grid()"
   ]
  },
  {
   "cell_type": "code",
   "execution_count": 64,
   "metadata": {},
   "outputs": [
    {
     "data": {
      "image/png": "[encoded data removed]",
      "text/plain": [
       "Plot with title “Desigualdad de Chebyshev”"
      ]
     },
     "metadata": {
      "image/png": {
       "height": 400,
       "width": 600
      }
     },
     "output_type": "display_data"
    }
   ],
   "source": [
    "plot(margen$limite_sup-margen$limite_inf,margen$prob,t='l',\n",
    "     xlab=\"Tamaño del margen\",\n",
    "     ylab=\"Probabilidad\",main=\"Desigualdad de Chebyshev\")\n",
    "grid()"
   ]
  },
  {
   "cell_type": "markdown",
   "metadata": {},
   "source": [
    "#### Ejemplo varianza acciones\n",
    "\n",
    "Podemos repetir el ejercicio anterior con las acciones. Al menos el 50% de las acciones de Telefónica se encuentran en el rango [-1.5,1.53], mientras que en cambio las acciones de Tesla, al tener una mayor varianza su rango crece a [-3,3.35]."
   ]
  },
  {
   "cell_type": "code",
   "execution_count": 65,
   "metadata": {},
   "outputs": [
    {
     "data": {
      "text/html": [
       "<table class=\"dataframe\">\n",
       "<caption>A data.frame: 3 × 5</caption>\n",
       "<thead>\n",
       "\t<tr><th scope=col>TEF_inf</th><th scope=col>TEF_sup</th><th scope=col>prob</th><th scope=col>TESLA_inf</th><th scope=col>TESLA_sup</th></tr>\n",
       "\t<tr><th scope=col>&lt;dbl&gt;</th><th scope=col>&lt;dbl&gt;</th><th scope=col>&lt;dbl&gt;</th><th scope=col>&lt;dbl&gt;</th><th scope=col>&lt;dbl&gt;</th></tr>\n",
       "</thead>\n",
       "<tbody>\n",
       "\t<tr><td>-1.221692</td><td>1.251384</td><td>0.75</td><td>-2.433883</td><td>2.764862</td></tr>\n",
       "\t<tr><td>-1.499598</td><td>1.529289</td><td>0.50</td><td>-3.018079</td><td>3.349057</td></tr>\n",
       "\t<tr><td>-2.126901</td><td>2.156592</td><td>0.25</td><td>-4.336756</td><td>4.667734</td></tr>\n",
       "</tbody>\n",
       "</table>\n"
      ],
      "text/latex": [
       "A data.frame: 3 × 5\n",
       "\\begin{tabular}{lllll}\n",
       " TEF\\_inf & TEF\\_sup & prob & TESLA\\_inf & TESLA\\_sup\\\\\n",
       " <dbl> & <dbl> & <dbl> & <dbl> & <dbl>\\\\\n",
       "\\hline\n",
       "\t -1.221692 & 1.251384 & 0.75 & -2.433883 & 2.764862\\\\\n",
       "\t -1.499598 & 1.529289 & 0.50 & -3.018079 & 3.349057\\\\\n",
       "\t -2.126901 & 2.156592 & 0.25 & -4.336756 & 4.667734\\\\\n",
       "\\end{tabular}\n"
      ],
      "text/markdown": [
       "\n",
       "A data.frame: 3 × 5\n",
       "\n",
       "| TEF_inf &lt;dbl&gt; | TEF_sup &lt;dbl&gt; | prob &lt;dbl&gt; | TESLA_inf &lt;dbl&gt; | TESLA_sup &lt;dbl&gt; |\n",
       "|---|---|---|---|---|\n",
       "| -1.221692 | 1.251384 | 0.75 | -2.433883 | 2.764862 |\n",
       "| -1.499598 | 1.529289 | 0.50 | -3.018079 | 3.349057 |\n",
       "| -2.126901 | 2.156592 | 0.25 | -4.336756 | 4.667734 |\n",
       "\n"
      ],
      "text/plain": [
       "  TEF_inf   TEF_sup  prob TESLA_inf TESLA_sup\n",
       "1 -1.221692 1.251384 0.75 -2.433883 2.764862 \n",
       "2 -1.499598 1.529289 0.50 -3.018079 3.349057 \n",
       "3 -2.126901 2.156592 0.25 -4.336756 4.667734 "
      ]
     },
     "metadata": {},
     "output_type": "display_data"
    }
   ],
   "source": [
    "k<-c(sqrt(1/0.75),sqrt(1/0.5),sqrt(1/0.25))\n",
    "margen<-data.frame(TEF_inf=mean(myStocks$TEF)-k*sd(myStocks$TEF),\n",
    "                   TEF_sup=mean(myStocks$TEF)+k*sd(myStocks$TEF),prob=1/k^2,\n",
    "                   TESLA_inf=mean(myStocks$TSLA)-k*sd(myStocks$TSLA),\n",
    "                   TESLA_sup=mean(myStocks$TSLA)+k*sd(myStocks$TSLA)\n",
    "                  )\n",
    "\n",
    "margen"
   ]
  },
  {
   "cell_type": "markdown",
   "metadata": {},
   "source": [
    "### Mediana"
   ]
  },
  {
   "cell_type": "markdown",
   "metadata": {},
   "source": [
    "La mediana es el valor de una distribución tal que la mitad de los elementos son superiores y la mitad son inferiores."
   ]
  },
  {
   "cell_type": "markdown",
   "metadata": {},
   "source": [
    "1 3    4 7\n",
    "    \n",
    "     "
   ]
  },
  {
   "cell_type": "code",
   "execution_count": 69,
   "metadata": {},
   "outputs": [],
   "source": [
    "myMedian<-function(x){\n",
    "    x <- sort(x)\n",
    "    i <- (length(x)+1)/2\n",
    "    if (round(i)==i){\n",
    "        return(x[i])\n",
    "    }else{\n",
    "        return((x[floor(i)]+x[ceiling(i)])/2)\n",
    "    }\n",
    "    \n",
    "}"
   ]
  },
  {
   "cell_type": "code",
   "execution_count": 70,
   "metadata": {},
   "outputs": [
    {
     "data": {
      "text/html": [
       "1.65"
      ],
      "text/latex": [
       "1.65"
      ],
      "text/markdown": [
       "1.65"
      ],
      "text/plain": [
       "[1] 1.65"
      ]
     },
     "metadata": {},
     "output_type": "display_data"
    }
   ],
   "source": [
    "myMedian(alturas)"
   ]
  },
  {
   "cell_type": "markdown",
   "metadata": {},
   "source": [
    "Como siempre es aconsejable utilizar la función que R ha preparado"
   ]
  },
  {
   "cell_type": "code",
   "execution_count": 71,
   "metadata": {},
   "outputs": [
    {
     "data": {
      "text/html": [
       "1.65"
      ],
      "text/latex": [
       "1.65"
      ],
      "text/markdown": [
       "1.65"
      ],
      "text/plain": [
       "[1] 1.65"
      ]
     },
     "metadata": {},
     "output_type": "display_data"
    }
   ],
   "source": [
    "median(alturas)"
   ]
  },
  {
   "cell_type": "markdown",
   "metadata": {},
   "source": [
    "Media y mediana no tienen porqué ser iguales. Ejemplo salarios brutos españoles de 2016 [Fuente](http://www.ine.es/prensa/epa_2016_d.pdf):\n",
    "* **Salario medio:** 1878,1€/mes\n",
    "* **Salario mediano:** 1594,5€/mes\n",
    "\n",
    "Esto indica que hay poca gente con sueldos muy altos que sube la media, la distribución no es simétrica."
   ]
  },
  {
   "cell_type": "markdown",
   "metadata": {},
   "source": [
    "### Cuartiles"
   ]
  },
  {
   "cell_type": "markdown",
   "metadata": {},
   "source": [
    "Los [cuartiles](https://es.wikipedia.org/wiki/Cuartil) son los tres valores que dividen un conjunto de datos ordenados en cuatro partes porcentualmente iguales.\n",
    "* Q1: El 25% de las muestras se encuentran por debajo del primer cuartil.\n",
    "* Q2: El 50% de las muestras se encuentran por debajo del segundo cuartil. Este valor también se le conoce como *mediana*\n",
    "* Q3: El 75% de las muestras se encuentran por debajo del tercer cuartil.\n",
    "* Rango intercuantílico (IQR): Q3-Q1\n",
    "\n",
    "Una forma muy práctica de mostrar estos valores es con el diagrama de cajas (boxplot en inglés).\n",
    "El boxplot se compone de:\n",
    "* Caja (Box): El lado superior indica el lugar de Q3, el lado inferior es Q1 y la línea que lo atraviesa es Q2\n",
    "* Bigotes (Whiskers): Dos líneas que se exitienden 1.5 veces el IQR desde Q3 y desde Q1.\n",
    "* Valores atípicos (Outlayers): Valores que se encuentran fuera de los bigotes."
   ]
  },
  {
   "cell_type": "code",
   "execution_count": 74,
   "metadata": {},
   "outputs": [
    {
     "data": {
      "text/plain": [
       "   Min. 1st Qu.  Median    Mean 3rd Qu.    Max. \n",
       "  1.500   1.615   1.650   1.690   1.775   1.900 "
      ]
     },
     "metadata": {},
     "output_type": "display_data"
    }
   ],
   "source": [
    "summary(alturas)"
   ]
  },
  {
   "cell_type": "code",
   "execution_count": 75,
   "metadata": {},
   "outputs": [
    {
     "data": {
      "text/html": [
       "<strong>25%:</strong> -0.643213961321193"
      ],
      "text/latex": [
       "\\textbf{25\\textbackslash{}\\%:} -0.643213961321193"
      ],
      "text/markdown": [
       "**25%:** -0.643213961321193"
      ],
      "text/plain": [
       "      25% \n",
       "-0.643214 "
      ]
     },
     "metadata": {},
     "output_type": "display_data"
    },
    {
     "data": {
      "text/html": [
       "<strong>75%:</strong> 0.566526075217367"
      ],
      "text/latex": [
       "\\textbf{75\\textbackslash{}\\%:} 0.566526075217367"
      ],
      "text/markdown": [
       "**75%:** 0.566526075217367"
      ],
      "text/plain": [
       "      75% \n",
       "0.5665261 "
      ]
     },
     "metadata": {},
     "output_type": "display_data"
    },
    {
     "data": {
      "text/html": [
       "<strong>iqr:</strong> 1.20974003653856"
      ],
      "text/latex": [
       "\\textbf{iqr:} 1.20974003653856"
      ],
      "text/markdown": [
       "**iqr:** 1.20974003653856"
      ],
      "text/plain": [
       "    iqr \n",
       "1.20974 "
      ]
     },
     "metadata": {},
     "output_type": "display_data"
    },
    {
     "data": {
      "image/png": "[encoded data removed]",
      "text/plain": [
       "plot without title"
      ]
     },
     "metadata": {
      "image/png": {
       "height": 400,
       "width": 600
      }
     },
     "output_type": "display_data"
    }
   ],
   "source": [
    "X<-myStocks$TEF\n",
    "boxplot(X)\n",
    "grid()\n",
    "q1<-quantile(X,0.25)\n",
    "q3<-quantile(X,0.75)\n",
    "iqr<-q3-q1\n",
    "names(iqr)<-\"iqr\"\n",
    "q1\n",
    "q3\n",
    "iqr\n",
    "\n",
    "text(1.25,q3,\"Q3\")\n",
    "text(1.29,median(X),\"mediana\")\n",
    "text(1.25,q1,\"Q1\")\n",
    "text(1.25,q3+1.5*iqr,\"Q3+1.5·IQR\")\n",
    "text(1.25,q1-1.5*iqr,\"Q1-1.5·IQR\")\n",
    "\n",
    "text(0.9,q3+1.8*iqr,\"Outlayers\")"
   ]
  },
  {
   "cell_type": "code",
   "execution_count": null,
   "metadata": {},
   "outputs": [],
   "source": [
    "?boxplot"
   ]
  },
  {
   "cell_type": "markdown",
   "metadata": {},
   "source": [
    "### Quantiles o percentiles\n",
    "\n",
    "El percentil indica el porcentaje de muestras que se encuentran debajo de un umbral dado. Es igual al cuantil, solo que este está dado en tanto por 1 mientras que el percentil está dado en tanto por ciento."
   ]
  },
  {
   "cell_type": "markdown",
   "metadata": {},
   "source": [
    "#### Ejemplo:\n",
    "Los percentiles se utilizan mucho para mostrar si el peso de un bebé es el correcto o se desvía mucho de lo esperado.\n",
    "![](pics/percentiles.png)\n",
    "Fuente [OMS](http://www.who.int/childgrowth/standards/sft_wfa_girls_p/en/)"
   ]
  },
  {
   "cell_type": "markdown",
   "metadata": {},
   "source": [
    "En R tenemos la función *quantile()*"
   ]
  },
  {
   "cell_type": "code",
   "execution_count": 78,
   "metadata": {},
   "outputs": [
    {
     "data": {
      "text/html": [
       "<style>\n",
       ".dl-inline {width: auto; margin:0; padding: 0}\n",
       ".dl-inline>dt, .dl-inline>dd {float: none; width: auto; display: inline-block}\n",
       ".dl-inline>dt::after {content: \":\\0020\"; padding-right: .5ex}\n",
       ".dl-inline>dt:not(:first-of-type) {padding-left: .5ex}\n",
       "</style><dl class=dl-inline><dt>77%</dt><dd>1.781</dd><dt>50%</dt><dd>1.65</dd><dt>10%</dt><dd>1.56</dd></dl>\n"
      ],
      "text/latex": [
       "\\begin{description*}\n",
       "\\item[77\\textbackslash{}\\%] 1.781\n",
       "\\item[50\\textbackslash{}\\%] 1.65\n",
       "\\item[10\\textbackslash{}\\%] 1.56\n",
       "\\end{description*}\n"
      ],
      "text/markdown": [
       "77%\n",
       ":   1.78150%\n",
       ":   1.6510%\n",
       ":   1.56\n",
       "\n"
      ],
      "text/plain": [
       "  77%   50%   10% \n",
       "1.781 1.650 1.560 "
      ]
     },
     "metadata": {},
     "output_type": "display_data"
    }
   ],
   "source": [
    "quantile(alturas,c(0.77, 0.5, 0.1))"
   ]
  },
  {
   "cell_type": "markdown",
   "metadata": {},
   "source": [
    "Ejemplo del uso de percentiles en R:\n",
    "\n",
    "https://momo.isciii.es/public/momo/dashboard/momo_dashboard.html"
   ]
  },
  {
   "cell_type": "markdown",
   "metadata": {
    "collapsed": true
   },
   "source": [
    "\n",
    "### Moda\n",
    "\n",
    "Es el valor con mayor frecuencia en una distribución."
   ]
  },
  {
   "cell_type": "code",
   "execution_count": 79,
   "metadata": {},
   "outputs": [
    {
     "data": {
      "text/html": [
       "<style>\n",
       ".list-inline {list-style: none; margin:0; padding: 0}\n",
       ".list-inline>li {display: inline-block}\n",
       ".list-inline>li:not(:last-child)::after {content: \"\\00b7\"; padding: 0 .5ex}\n",
       "</style>\n",
       "<ol class=list-inline><li>6</li><li>7</li><li>10</li><li>7</li><li>7</li><li>10</li><li>8</li><li>4</li><li>6</li><li>6</li><li>9</li><li>8</li><li>8</li><li>7</li><li>6</li><li>11</li><li>8</li><li>3</li><li>8</li><li>6</li><li>5</li><li>7</li><li>5</li><li>6</li><li>6</li><li>4</li><li>9</li><li>7</li><li>5</li><li>10</li><li>8</li><li>6</li><li>9</li><li>9</li><li>9</li><li>8</li><li>8</li><li>7</li><li>6</li><li>6</li></ol>\n"
      ],
      "text/latex": [
       "\\begin{enumerate*}\n",
       "\\item 6\n",
       "\\item 7\n",
       "\\item 10\n",
       "\\item 7\n",
       "\\item 7\n",
       "\\item 10\n",
       "\\item 8\n",
       "\\item 4\n",
       "\\item 6\n",
       "\\item 6\n",
       "\\item 9\n",
       "\\item 8\n",
       "\\item 8\n",
       "\\item 7\n",
       "\\item 6\n",
       "\\item 11\n",
       "\\item 8\n",
       "\\item 3\n",
       "\\item 8\n",
       "\\item 6\n",
       "\\item 5\n",
       "\\item 7\n",
       "\\item 5\n",
       "\\item 6\n",
       "\\item 6\n",
       "\\item 4\n",
       "\\item 9\n",
       "\\item 7\n",
       "\\item 5\n",
       "\\item 10\n",
       "\\item 8\n",
       "\\item 6\n",
       "\\item 9\n",
       "\\item 9\n",
       "\\item 9\n",
       "\\item 8\n",
       "\\item 8\n",
       "\\item 7\n",
       "\\item 6\n",
       "\\item 6\n",
       "\\end{enumerate*}\n"
      ],
      "text/markdown": [
       "1. 6\n",
       "2. 7\n",
       "3. 10\n",
       "4. 7\n",
       "5. 7\n",
       "6. 10\n",
       "7. 8\n",
       "8. 4\n",
       "9. 6\n",
       "10. 6\n",
       "11. 9\n",
       "12. 8\n",
       "13. 8\n",
       "14. 7\n",
       "15. 6\n",
       "16. 11\n",
       "17. 8\n",
       "18. 3\n",
       "19. 8\n",
       "20. 6\n",
       "21. 5\n",
       "22. 7\n",
       "23. 5\n",
       "24. 6\n",
       "25. 6\n",
       "26. 4\n",
       "27. 9\n",
       "28. 7\n",
       "29. 5\n",
       "30. 10\n",
       "31. 8\n",
       "32. 6\n",
       "33. 9\n",
       "34. 9\n",
       "35. 9\n",
       "36. 8\n",
       "37. 8\n",
       "38. 7\n",
       "39. 6\n",
       "40. 6\n",
       "\n",
       "\n"
      ],
      "text/plain": [
       " [1]  6  7 10  7  7 10  8  4  6  6  9  8  8  7  6 11  8  3  8  6  5  7  5  6  6\n",
       "[26]  4  9  7  5 10  8  6  9  9  9  8  8  7  6  6"
      ]
     },
     "metadata": {},
     "output_type": "display_data"
    }
   ],
   "source": [
    "set.seed(123)\n",
    "# Creamos una secuencia de 40 números aleatorios\n",
    "vec<-round(rnorm(40,mean=7,sd=2))\n",
    "vec"
   ]
  },
  {
   "cell_type": "code",
   "execution_count": 80,
   "metadata": {},
   "outputs": [
    {
     "data": {
      "text/plain": [
       "vec\n",
       " 3  4  5  6  7  8  9 10 11 \n",
       " 1  2  3 10  7  8  5  3  1 "
      ]
     },
     "metadata": {},
     "output_type": "display_data"
    }
   ],
   "source": [
    "#Contamos las veces que aparece cada uno\n",
    "myTable<-table(vec)\n",
    "myTable"
   ]
  },
  {
   "cell_type": "code",
   "execution_count": 81,
   "metadata": {},
   "outputs": [
    {
     "data": {
      "text/html": [
       "'6'"
      ],
      "text/latex": [
       "'6'"
      ],
      "text/markdown": [
       "'6'"
      ],
      "text/plain": [
       "[1] \"6\""
      ]
     },
     "metadata": {},
     "output_type": "display_data"
    }
   ],
   "source": [
    "names(myTable)[which.max(myTable)]"
   ]
  },
  {
   "cell_type": "code",
   "execution_count": 82,
   "metadata": {},
   "outputs": [
    {
     "data": {
      "text/html": [
       "<strong>6:</strong> 10"
      ],
      "text/latex": [
       "\\textbf{6:} 10"
      ],
      "text/markdown": [
       "**6:** 10"
      ],
      "text/plain": [
       " 6 \n",
       "10 "
      ]
     },
     "metadata": {},
     "output_type": "display_data"
    }
   ],
   "source": [
    "myTable[4]"
   ]
  },
  {
   "cell_type": "code",
   "execution_count": 83,
   "metadata": {},
   "outputs": [
    {
     "name": "stdout",
     "output_type": "stream",
     "text": [
      "[1] \"La posición del máximo es: 4\"\n",
      "[1] \"El número más común es: 6\"\n",
      "[1] \"Ese número ha aparecido  10 veces\"\n"
     ]
    }
   ],
   "source": [
    "print(paste(\"La posición del máximo es:\",which.max(myTable)))\n",
    "\n",
    "print(paste(\"El número más común es:\",names(myTable)[which.max(myTable)]))\n",
    "print(paste(\"Ese número ha aparecido \",max(myTable),\"veces\"))\n"
   ]
  },
  {
   "cell_type": "code",
   "execution_count": null,
   "metadata": {},
   "outputs": [],
   "source": []
  }
 ],
 "metadata": {
  "kernelspec": {
   "display_name": "R",
   "language": "R",
   "name": "ir"
  },
  "language_info": {
   "codemirror_mode": "r",
   "file_extension": ".r",
   "mimetype": "text/x-r-source",
   "name": "R",
   "pygments_lexer": "r",
   "version": "4.1.0"
  }
 },
 "nbformat": 4,
 "nbformat_minor": 1
}
