{
 "cells": [
  {
   "cell_type": "markdown",
   "id": "97ccbafd",
   "metadata": {},
   "source": [
    "## Datos de strava\n",
    "\n",
    "- Filtrar y quedarse solo con Activity.Type=\"Ride\"\n",
    "- Convertir Activity.Date en un objeto posixct.\n",
    "- Crear una nueva columna que sea día de la semana\n",
    "- Crear una nueva columna que sea ida o vuelta al trabajo:\n",
    "    - Tiene que ser un día de lunes a viernes\n",
    "    - Ida: Entre las 7 y las 9\n",
    "    - Vuelta: Entre las 14 y las 19\n",
    "\n",
    "Para la columna Moving.Time: Calcular tiempo medio de ida, tiempo medio de vuelta, varianza y Boxplot de ambos. \n",
    "\n",
    "Ayuda: \n",
    "* Para elegir el día de la semana usa la función weekdays del paquete lubridate()\n",
    "* Para parsear la fecha, usa el siguiente formato: \"%b %d, %Y, %I:%M:%S %p\""
   ]
  },
  {
   "cell_type": "code",
   "execution_count": null,
   "id": "be4db490",
   "metadata": {},
   "outputs": [],
   "source": [
    "Sys.setlocale(\"LC_ALL\",\"en_EN\")\n",
    "strava = read.csv(\"data/activities_strava.csv\")\n",
    "strava$Activity.Date <- as.POSIXct(strava$Activity.Date, format='%b %d, %Y, %I:%M:%S %p')"
   ]
  },
  {
   "cell_type": "code",
   "execution_count": null,
   "id": "387190ac",
   "metadata": {},
   "outputs": [],
   "source": []
  },
  {
   "cell_type": "code",
   "execution_count": null,
   "id": "73b89c60",
   "metadata": {},
   "outputs": [],
   "source": []
  },
  {
   "cell_type": "markdown",
   "id": "9ce3918d",
   "metadata": {},
   "source": [
    " ## CSV edad española\n",
    " \n",
    " Usando el CSV del INE.¿Cual es la media de edad de la población española? ¿y la mediana? ¿la moda?\n",
    "\n",
    "Ayuda, función de la media:\n",
    "\\\\[ \n",
    "    \\bar{x} =  \\frac{1}{\\text{poblaciónTotal}} \\sum _{i=1}^N edad_i · poblaciónConEdad_i \n",
    "\\\\]"
   ]
  },
  {
   "cell_type": "code",
   "execution_count": null,
   "id": "49600843",
   "metadata": {},
   "outputs": [],
   "source": [
    "library(dplyr)\n",
    "library(tidyr)\n",
    "\n",
    "poblacion_raw<-read.csv(\"data/9663bsc.csv\",skip=0,fileEncoding=\"ISO-8859-1\",header=T, sep=';',stringsAsFactor=F)\n",
    "poblacion_raw$Total <- as.numeric(gsub('\\\\.','',poblacion_raw$Total))\n",
    "poblacion <- poblacion_raw %>% pivot_wider(names_from = Sexo, values_from = Total)  %>% \n",
    " mutate(edad=as.numeric(gsub(\"año(s|)\",\"\",Edad.simple))) %>% drop_na() %>% select(-c(Periodo,Edad.simple)) %>% arrange(edad)\n",
    "\n",
    "head(poblacion)"
   ]
  },
  {
   "cell_type": "code",
   "execution_count": null,
   "id": "843b19dc",
   "metadata": {},
   "outputs": [],
   "source": []
  }
 ],
 "metadata": {
  "kernelspec": {
   "display_name": "R",
   "language": "R",
   "name": "ir"
  },
  "language_info": {
   "codemirror_mode": "r",
   "file_extension": ".r",
   "mimetype": "text/x-r-source",
   "name": "R",
   "pygments_lexer": "r",
   "version": "4.1.0"
  }
 },
 "nbformat": 4,
 "nbformat_minor": 5
}
